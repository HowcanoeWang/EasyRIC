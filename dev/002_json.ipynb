{
 "cells": [
  {
   "cell_type": "code",
   "execution_count": 1,
   "metadata": {},
   "outputs": [],
   "source": [
    "import json"
   ]
  },
  {
   "cell_type": "code",
   "execution_count": 4,
   "metadata": {},
   "outputs": [
    {
     "data": {
      "text/plain": [
       "'{\"test\": {\"rua\": [[12, 34], [45, 56]]}, \"hua\": [34, 34.567]}'"
      ]
     },
     "execution_count": 4,
     "metadata": {},
     "output_type": "execute_result"
    }
   ],
   "source": [
    "with open(\"../tests/data/json_test/for_read_json.json\", 'r') as f:\n",
    "    js_str = f.read()\n",
    "\n",
    "js_str"
   ]
  },
  {
   "cell_type": "code",
   "execution_count": 5,
   "metadata": {},
   "outputs": [
    {
     "data": {
      "text/plain": [
       "'{\\n    \"test\": {\\n        \"rua\": [\\n            [\\n                12,\\n                34\\n            ],\\n            [\\n                45,\\n                56\\n            ]\\n        ]\\n    },\\n    \"hua\": [\\n        34,\\n        34.567\\n    ]\\n}'"
      ]
     },
     "execution_count": 5,
     "metadata": {},
     "output_type": "execute_result"
    }
   ],
   "source": [
    "with open(\"../tests/out/json_test/json_indent4.json\", 'r') as f:\n",
    "    js_str4 = f.read()\n",
    "\n",
    "js_str4"
   ]
  },
  {
   "cell_type": "code",
   "execution_count": null,
   "metadata": {},
   "outputs": [],
   "source": []
  }
 ],
 "metadata": {
  "kernelspec": {
   "display_name": "Python 3.8.13 ('easyidp')",
   "language": "python",
   "name": "python3"
  },
  "language_info": {
   "codemirror_mode": {
    "name": "ipython",
    "version": 3
   },
   "file_extension": ".py",
   "mimetype": "text/x-python",
   "name": "python",
   "nbconvert_exporter": "python",
   "pygments_lexer": "ipython3",
   "version": "3.8.13"
  },
  "orig_nbformat": 4,
  "vscode": {
   "interpreter": {
    "hash": "c57a372376ecab0caeb8816769a3e0fc257b5754cdacff7b12180918199af449"
   }
  }
 },
 "nbformat": 4,
 "nbformat_minor": 2
}
