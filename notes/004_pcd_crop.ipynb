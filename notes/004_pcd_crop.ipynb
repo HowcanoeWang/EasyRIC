{
 "cells": [
  {
   "cell_type": "code",
   "execution_count": 2,
   "metadata": {},
   "outputs": [],
   "source": [
    "from matplotlib.patches import Polygon\n",
    "import numpy as np"
   ]
  },
  {
   "cell_type": "markdown",
   "metadata": {},
   "source": [
    "Use data: test/pcd_test/hasu_tanashi\n",
    "Use ROI:\n",
    "\n",
    "![](static/004_pcd_roi_clip.png)"
   ]
  },
  {
   "cell_type": "code",
   "execution_count": 3,
   "metadata": {},
   "outputs": [],
   "source": [
    "# need pip install -e . to get into develop mode\n",
    "import easyidp as idp"
   ]
  },
  {
   "cell_type": "code",
   "execution_count": 4,
   "metadata": {},
   "outputs": [
    {
     "data": {
      "text/plain": [
       "             x        y        z  r    g    b        nx      ny      nz\n",
       "    0  -18.908  -15.778   -0.779  123  103  79   nodata  nodata  nodata\n",
       "    1  -18.908  -15.777   -0.78   124  104  81   nodata  nodata  nodata\n",
       "    2  -18.907  -15.775   -0.802  123  103  80   nodata  nodata  nodata\n",
       "  ...  ...      ...      ...      ...  ...  ...     ...     ...     ...\n",
       "42451  -15.789  -17.961   -0.847  116  98   80   nodata  nodata  nodata\n",
       "42452  -15.789  -17.939   -0.84   113  95   76   nodata  nodata  nodata\n",
       "42453  -15.786  -17.937   -0.833  115  97   78   nodata  nodata  nodata"
      ]
     },
     "execution_count": 4,
     "metadata": {},
     "output_type": "execute_result"
    }
   ],
   "source": [
    "# test pcd data\n",
    "pts = idp.PointCloud(r\"../tests/data/pcd_test/hasu_tanashi_ascii.ply\")\n",
    "pts"
   ]
  },
  {
   "cell_type": "code",
   "execution_count": 13,
   "metadata": {},
   "outputs": [
    {
     "data": {
      "text/plain": [
       "array([[-18.42576599, -16.10819054,  -0.63814539],\n",
       "       [-18.00066757, -18.05295944,  -0.67380333],\n",
       "       [-16.05021095, -17.63488388,  -0.68102068],\n",
       "       [-16.46848488, -15.66774559,  -0.6401825 ],\n",
       "       [-18.42576599, -16.10819054,  -0.63814539]])"
      ]
     },
     "execution_count": 13,
     "metadata": {},
     "output_type": "execute_result"
    }
   ],
   "source": [
    "# read roi\n",
    "test_data = np.loadtxt(r'../tests/data/roi_test/hasu_tanashi_xyz.txt', delimiter=',')\n",
    "\n",
    "poly_data = np.append(test_data, test_data[0,:][None,:], axis = 0)\n",
    "poly_data"
   ]
  },
  {
   "cell_type": "markdown",
   "metadata": {},
   "source": [
    "The above has been wrapped to `roi.read_cc_txt()`"
   ]
  },
  {
   "cell_type": "code",
   "execution_count": 17,
   "metadata": {},
   "outputs": [],
   "source": [
    "# clip by min-max\n",
    "xmin, ymin = poly_data[:, 0:2].min(axis=0)\n",
    "xmax, ymax = poly_data[:, 0:2].max(axis=0)\n"
   ]
  },
  {
   "cell_type": "code",
   "execution_count": 18,
   "metadata": {},
   "outputs": [
    {
     "data": {
      "text/plain": [
       "array([[-18.90831184, -15.77755833],\n",
       "       [-18.90827942, -15.77727413],\n",
       "       [-18.90719604, -15.77482891],\n",
       "       ...,\n",
       "       [-15.78929043, -17.96125984],\n",
       "       [-15.78858089, -17.93910408],\n",
       "       [-15.78621864, -17.93657875]])"
      ]
     },
     "execution_count": 18,
     "metadata": {},
     "output_type": "execute_result"
    }
   ],
   "source": [
    "xy = pts.points[:,0:2]\n",
    "xy"
   ]
  },
  {
   "cell_type": "code",
   "execution_count": 30,
   "metadata": {},
   "outputs": [
    {
     "data": {
      "text/plain": [
       "(42454, 2)"
      ]
     },
     "execution_count": 30,
     "metadata": {},
     "output_type": "execute_result"
    }
   ],
   "source": [
    "xy.shape"
   ]
  },
  {
   "cell_type": "code",
   "execution_count": 22,
   "metadata": {},
   "outputs": [
    {
     "data": {
      "text/plain": [
       "array([False, False, False, ...,  True,  True,  True])"
      ]
     },
     "execution_count": 22,
     "metadata": {},
     "output_type": "execute_result"
    }
   ],
   "source": [
    "xy[:,0] >= xmin"
   ]
  },
  {
   "cell_type": "code",
   "execution_count": 24,
   "metadata": {},
   "outputs": [
    {
     "data": {
      "text/plain": [
       "array([False, False, False, ..., False, False, False])"
      ]
     },
     "execution_count": 24,
     "metadata": {},
     "output_type": "execute_result"
    }
   ],
   "source": [
    "inbbox = (xy[:,0] >= xmin) * (xy[:,0] <= xmax) * (xy[:,1] >= ymin) * (xy[:,1]<= ymax)\n",
    "inbbox"
   ]
  },
  {
   "cell_type": "code",
   "execution_count": 31,
   "metadata": {},
   "outputs": [
    {
     "data": {
      "text/plain": [
       "array([ 3394,  3395,  3396, ..., 41371, 41372, 41373], dtype=int64)"
      ]
     },
     "execution_count": 31,
     "metadata": {},
     "output_type": "execute_result"
    }
   ],
   "source": [
    "inbbox_idx = np.where(inbbox)[0]\n",
    "inbbox_idx"
   ]
  },
  {
   "cell_type": "code",
   "execution_count": 32,
   "metadata": {},
   "outputs": [
    {
     "data": {
      "text/plain": [
       "(31781, 2)"
      ]
     },
     "execution_count": 32,
     "metadata": {},
     "output_type": "execute_result"
    }
   ],
   "source": [
    "inbbox_pts = xy[inbbox_idx, :]\n",
    "inbbox_pts.shape"
   ]
  },
  {
   "cell_type": "markdown",
   "metadata": {},
   "source": [
    "```python\n",
    ">>> from matplotlib.patches import Polygon\n",
    ">>> import numpy as np\n",
    ">>> a = np.array([[2,6],[4,6],[4,8],[2,8],[2,6]])\n",
    ">>> import matplotlib.pyplot as plt\n",
    ">>> point = (3,7)\n",
    ">>> poly = Polygon(a)\n",
    ">>> poly.contains_point(point)\n",
    "True\n",
    ">>> poly.contains_points(np.asarray([[3,7],[12,34]]))\n",
    "array([ True, False])\n",
    "```"
   ]
  },
  {
   "cell_type": "code",
   "execution_count": 34,
   "metadata": {},
   "outputs": [
    {
     "data": {
      "text/plain": [
       "array([ True, False, False, ..., False, False, False])"
      ]
     },
     "execution_count": 34,
     "metadata": {},
     "output_type": "execute_result"
    }
   ],
   "source": [
    "# judge by matplotlib.polygon\n",
    "plt_poly = Polygon(poly_data[:,0:2])\n",
    "in_poly_idx = plt_poly.contains_points(inbbox_pts)\n",
    "in_poly_idx"
   ]
  },
  {
   "cell_type": "code",
   "execution_count": 35,
   "metadata": {},
   "outputs": [
    {
     "data": {
      "text/plain": [
       "array([ 3394,  3503,  3614, ..., 41265, 41285, 41369], dtype=int64)"
      ]
     },
     "execution_count": 35,
     "metadata": {},
     "output_type": "execute_result"
    }
   ],
   "source": [
    "final_pick_idx = inbbox_idx[in_poly_idx]\n",
    "final_pick_idx"
   ]
  },
  {
   "cell_type": "code",
   "execution_count": 36,
   "metadata": {},
   "outputs": [
    {
     "data": {
      "text/plain": [
       "22423"
      ]
     },
     "execution_count": 36,
     "metadata": {},
     "output_type": "execute_result"
    }
   ],
   "source": [
    "len(final_pick_idx)"
   ]
  },
  {
   "cell_type": "code",
   "execution_count": null,
   "metadata": {},
   "outputs": [],
   "source": []
  }
 ],
 "metadata": {
  "kernelspec": {
   "display_name": "Python 3.8.13 ('easyidp')",
   "language": "python",
   "name": "python3"
  },
  "language_info": {
   "codemirror_mode": {
    "name": "ipython",
    "version": 3
   },
   "file_extension": ".py",
   "mimetype": "text/x-python",
   "name": "python",
   "nbconvert_exporter": "python",
   "pygments_lexer": "ipython3",
   "version": "3.8.13"
  },
  "orig_nbformat": 4,
  "vscode": {
   "interpreter": {
    "hash": "37b84045dbd3b1b63dc225ef9ab210c438e45d226124df1289d7d0b5b9fdea16"
   }
  }
 },
 "nbformat": 4,
 "nbformat_minor": 2
}
