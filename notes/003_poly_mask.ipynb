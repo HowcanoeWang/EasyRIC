{
 "cells": [
  {
   "cell_type": "code",
   "execution_count": 2,
   "metadata": {},
   "outputs": [],
   "source": [
    "import numpy as np\n",
    "from skimage.draw import polygon"
   ]
  },
  {
   "cell_type": "code",
   "execution_count": 3,
   "metadata": {},
   "outputs": [],
   "source": [
    "img = np.zeros((10, 10), dtype=np.uint8)\n",
    "rr, cc = polygon([1, 2, 8], [1, 7, 4])"
   ]
  },
  {
   "cell_type": "code",
   "execution_count": 4,
   "metadata": {},
   "outputs": [],
   "source": [
    "img[rr, cc] = 1"
   ]
  },
  {
   "cell_type": "code",
   "execution_count": 5,
   "metadata": {},
   "outputs": [
    {
     "data": {
      "text/plain": [
       "array([[0, 0, 0, 0, 0, 0, 0, 0, 0, 0],\n",
       "       [0, 1, 0, 0, 0, 0, 0, 0, 0, 0],\n",
       "       [0, 0, 1, 1, 1, 1, 1, 1, 0, 0],\n",
       "       [0, 0, 1, 1, 1, 1, 1, 0, 0, 0],\n",
       "       [0, 0, 0, 1, 1, 1, 1, 0, 0, 0],\n",
       "       [0, 0, 0, 1, 1, 1, 0, 0, 0, 0],\n",
       "       [0, 0, 0, 0, 1, 1, 0, 0, 0, 0],\n",
       "       [0, 0, 0, 0, 1, 0, 0, 0, 0, 0],\n",
       "       [0, 0, 0, 0, 1, 0, 0, 0, 0, 0],\n",
       "       [0, 0, 0, 0, 0, 0, 0, 0, 0, 0]], dtype=uint8)"
      ]
     },
     "execution_count": 5,
     "metadata": {},
     "output_type": "execute_result"
    }
   ],
   "source": [
    "img"
   ]
  },
  {
   "cell_type": "code",
   "execution_count": 6,
   "metadata": {},
   "outputs": [],
   "source": [
    "import matplotlib.pyplot as plt"
   ]
  },
  {
   "cell_type": "code",
   "execution_count": 13,
   "metadata": {},
   "outputs": [
    {
     "data": {
      "text/plain": [
       "array([[1, 1],\n",
       "       [2, 7],\n",
       "       [8, 4],\n",
       "       [1, 1]])"
      ]
     },
     "execution_count": 13,
     "metadata": {},
     "output_type": "execute_result"
    }
   ],
   "source": [
    "x=[1,2,8,1]\n",
    "y=[1,7,4,1]\n",
    "\n",
    "xy = np.array([x,y])\n",
    "xy = xy.T\n",
    "xy"
   ]
  },
  {
   "cell_type": "code",
   "execution_count": 18,
   "metadata": {},
   "outputs": [
    {
     "data": {
      "image/png": "[encoded data removed]",
      "text/plain": [
       "<Figure size 432x288 with 1 Axes>"
      ]
     },
     "metadata": {
      "needs_background": "light"
     },
     "output_type": "display_data"
    }
   ],
   "source": [
    "fig, ax = plt.subplots(1,1)\n",
    "\n",
    "plt.imshow(img)\n",
    "\n",
    "ax.plot(y, x)\n",
    "\n",
    "plt.show()"
   ]
  },
  {
   "cell_type": "markdown",
   "metadata": {},
   "source": [
    "> https://pygis.io/_images/zonal_stats.jpg\n",
    "\n",
    "![](static/zonal_stats.jpg)\n",
    "\n",
    "如果不用all touch，\n",
    "\n",
    "对于每一个像素，生成一个中心点，判断点是否在polygon内\n",
    "\n",
    "如果all touch\n",
    "\n",
    "建立像素交叉点，并生成交叉点对应的像素点编号\n",
    "\n",
    "| cid | is_in | \n",
    "|---|---|\n",
    "| 100 100 | True |\n",
    "| 100 101 | False |\n",
    "\n",
    "然后reshape一下成为2D即可。\n",
    "\n",
    "检索表\n",
    "\n",
    "| pid | lt | rt | ld | rd |\n",
    "| --- | --- | --- | ---|---|\n",
    "| 100 100 | cid | cid | cid | cid |\n",
    "\n",
    "检索表每一列相乘，即可得到这个像素要不要保留的表，然后把结果reshape成2D的即可得到mask（有可能需要去掉最后一列和最后一行）"
   ]
  },
  {
   "cell_type": "code",
   "execution_count": 19,
   "metadata": {},
   "outputs": [],
   "source": [
    "img_shape = (10, 10)   # (h, w)"
   ]
  },
  {
   "cell_type": "markdown",
   "metadata": {},
   "source": [
    "`all_touch=False`"
   ]
  },
  {
   "cell_type": "code",
   "execution_count": 22,
   "metadata": {},
   "outputs": [
    {
     "data": {
      "text/plain": [
       "(array([0.5, 1.5, 2.5, 3.5, 4.5, 5.5, 6.5, 7.5, 8.5, 9.5]),\n",
       " array([0.5, 1.5, 2.5, 3.5, 4.5, 5.5, 6.5, 7.5, 8.5, 9.5]))"
      ]
     },
     "execution_count": 22,
     "metadata": {},
     "output_type": "execute_result"
    }
   ],
   "source": [
    "h, w = img_shape\n",
    "\n",
    "# the center points of pixel\n",
    "x = np.arange(0, h) + 0.5\n",
    "y = np.arange(0, w) + 0.5\n",
    "\n",
    "x, y"
   ]
  },
  {
   "cell_type": "code",
   "execution_count": 23,
   "metadata": {},
   "outputs": [
    {
     "data": {
      "text/plain": [
       "array([[0.5, 1.5, 2.5, 3.5, 4.5, 5.5, 6.5, 7.5, 8.5, 9.5],\n",
       "       [0.5, 1.5, 2.5, 3.5, 4.5, 5.5, 6.5, 7.5, 8.5, 9.5],\n",
       "       [0.5, 1.5, 2.5, 3.5, 4.5, 5.5, 6.5, 7.5, 8.5, 9.5],\n",
       "       [0.5, 1.5, 2.5, 3.5, 4.5, 5.5, 6.5, 7.5, 8.5, 9.5],\n",
       "       [0.5, 1.5, 2.5, 3.5, 4.5, 5.5, 6.5, 7.5, 8.5, 9.5],\n",
       "       [0.5, 1.5, 2.5, 3.5, 4.5, 5.5, 6.5, 7.5, 8.5, 9.5],\n",
       "       [0.5, 1.5, 2.5, 3.5, 4.5, 5.5, 6.5, 7.5, 8.5, 9.5],\n",
       "       [0.5, 1.5, 2.5, 3.5, 4.5, 5.5, 6.5, 7.5, 8.5, 9.5],\n",
       "       [0.5, 1.5, 2.5, 3.5, 4.5, 5.5, 6.5, 7.5, 8.5, 9.5],\n",
       "       [0.5, 1.5, 2.5, 3.5, 4.5, 5.5, 6.5, 7.5, 8.5, 9.5]])"
      ]
     },
     "execution_count": 23,
     "metadata": {},
     "output_type": "execute_result"
    }
   ],
   "source": [
    "xx, yy = np.meshgrid(x, y)\n",
    "xx"
   ]
  },
  {
   "cell_type": "code",
   "execution_count": 31,
   "metadata": {},
   "outputs": [
    {
     "data": {
      "text/plain": [
       "array([[0.5, 0.5],\n",
       "       [1.5, 0.5],\n",
       "       [2.5, 0.5],\n",
       "       [3.5, 0.5],\n",
       "       [4.5, 0.5],\n",
       "       [5.5, 0.5],\n",
       "       [6.5, 0.5],\n",
       "       [7.5, 0.5],\n",
       "       [8.5, 0.5],\n",
       "       [9.5, 0.5],\n",
       "       [0.5, 1.5],\n",
       "       [1.5, 1.5],\n",
       "       [2.5, 1.5],\n",
       "       [3.5, 1.5],\n",
       "       [4.5, 1.5],\n",
       "       [5.5, 1.5],\n",
       "       [6.5, 1.5],\n",
       "       [7.5, 1.5],\n",
       "       [8.5, 1.5],\n",
       "       [9.5, 1.5],\n",
       "       [0.5, 2.5],\n",
       "       [1.5, 2.5],\n",
       "       [2.5, 2.5],\n",
       "       [3.5, 2.5],\n",
       "       [4.5, 2.5],\n",
       "       [5.5, 2.5],\n",
       "       [6.5, 2.5],\n",
       "       [7.5, 2.5],\n",
       "       [8.5, 2.5],\n",
       "       [9.5, 2.5],\n",
       "       [0.5, 3.5],\n",
       "       [1.5, 3.5],\n",
       "       [2.5, 3.5],\n",
       "       [3.5, 3.5],\n",
       "       [4.5, 3.5],\n",
       "       [5.5, 3.5],\n",
       "       [6.5, 3.5],\n",
       "       [7.5, 3.5],\n",
       "       [8.5, 3.5],\n",
       "       [9.5, 3.5],\n",
       "       [0.5, 4.5],\n",
       "       [1.5, 4.5],\n",
       "       [2.5, 4.5],\n",
       "       [3.5, 4.5],\n",
       "       [4.5, 4.5],\n",
       "       [5.5, 4.5],\n",
       "       [6.5, 4.5],\n",
       "       [7.5, 4.5],\n",
       "       [8.5, 4.5],\n",
       "       [9.5, 4.5],\n",
       "       [0.5, 5.5],\n",
       "       [1.5, 5.5],\n",
       "       [2.5, 5.5],\n",
       "       [3.5, 5.5],\n",
       "       [4.5, 5.5],\n",
       "       [5.5, 5.5],\n",
       "       [6.5, 5.5],\n",
       "       [7.5, 5.5],\n",
       "       [8.5, 5.5],\n",
       "       [9.5, 5.5],\n",
       "       [0.5, 6.5],\n",
       "       [1.5, 6.5],\n",
       "       [2.5, 6.5],\n",
       "       [3.5, 6.5],\n",
       "       [4.5, 6.5],\n",
       "       [5.5, 6.5],\n",
       "       [6.5, 6.5],\n",
       "       [7.5, 6.5],\n",
       "       [8.5, 6.5],\n",
       "       [9.5, 6.5],\n",
       "       [0.5, 7.5],\n",
       "       [1.5, 7.5],\n",
       "       [2.5, 7.5],\n",
       "       [3.5, 7.5],\n",
       "       [4.5, 7.5],\n",
       "       [5.5, 7.5],\n",
       "       [6.5, 7.5],\n",
       "       [7.5, 7.5],\n",
       "       [8.5, 7.5],\n",
       "       [9.5, 7.5],\n",
       "       [0.5, 8.5],\n",
       "       [1.5, 8.5],\n",
       "       [2.5, 8.5],\n",
       "       [3.5, 8.5],\n",
       "       [4.5, 8.5],\n",
       "       [5.5, 8.5],\n",
       "       [6.5, 8.5],\n",
       "       [7.5, 8.5],\n",
       "       [8.5, 8.5],\n",
       "       [9.5, 8.5],\n",
       "       [0.5, 9.5],\n",
       "       [1.5, 9.5],\n",
       "       [2.5, 9.5],\n",
       "       [3.5, 9.5],\n",
       "       [4.5, 9.5],\n",
       "       [5.5, 9.5],\n",
       "       [6.5, 9.5],\n",
       "       [7.5, 9.5],\n",
       "       [8.5, 9.5],\n",
       "       [9.5, 9.5]])"
      ]
     },
     "execution_count": 31,
     "metadata": {},
     "output_type": "execute_result"
    }
   ],
   "source": [
    "pts = np.array([xx.ravel(), yy.ravel()]).T\n",
    "pts"
   ]
  },
  {
   "cell_type": "code",
   "execution_count": 27,
   "metadata": {},
   "outputs": [],
   "source": [
    "from shapely.geometry import MultiPoint"
   ]
  },
  {
   "cell_type": "code",
   "execution_count": 73,
   "metadata": {},
   "outputs": [],
   "source": [
    "points = MultiPoint(pts)"
   ]
  },
  {
   "cell_type": "code",
   "execution_count": 34,
   "metadata": {},
   "outputs": [],
   "source": [
    "from shapely.geometry import Polygon"
   ]
  },
  {
   "cell_type": "code",
   "execution_count": 74,
   "metadata": {},
   "outputs": [],
   "source": [
    "# polygon\n",
    "poly = Polygon(xy)"
   ]
  },
  {
   "cell_type": "code",
   "execution_count": 37,
   "metadata": {},
   "outputs": [
    {
     "data": {
      "image/svg+xml": "<svg xmlns=\"http://www.w3.org/2000/svg\" xmlns:xlink=\"http://www.w3.org/1999/xlink\" width=\"100.0\" height=\"100.0\" viewBox=\"0.72 0.72 7.56 6.5600000000000005\" preserveAspectRatio=\"xMinYMin meet\"><g transform=\"matrix(1,0,0,-1,0,8.0)\"><path fill-rule=\"evenodd\" fill=\"#66cc99\" stroke=\"#555555\" stroke-width=\"0.1512\" opacity=\"0.6\" d=\"M 1.0,1.0 L 2.0,7.0 L 8.0,4.0 L 1.0,1.0 z\" /></g></svg>",
      "text/plain": [
       "<shapely.geometry.polygon.Polygon at 0x218b9f6ef70>"
      ]
     },
     "execution_count": 37,
     "metadata": {},
     "output_type": "execute_result"
    }
   ],
   "source": [
    "poly"
   ]
  },
  {
   "cell_type": "code",
   "execution_count": 92,
   "metadata": {},
   "outputs": [
    {
     "data": {
      "image/svg+xml": "<svg xmlns=\"http://www.w3.org/2000/svg\" xmlns:xlink=\"http://www.w3.org/1999/xlink\" width=\"100.0\" height=\"100.0\" viewBox=\"1.3 1.3 5.4 5.4\" preserveAspectRatio=\"xMinYMin meet\"><g transform=\"matrix(1,0,0,-1,0,8.0)\"><g><circle cx=\"1.5\" cy=\"1.5\" r=\"0.16200000000000003\" stroke=\"#555555\" stroke-width=\"0.054000000000000006\" fill=\"#66cc99\" opacity=\"0.6\" /><circle cx=\"1.5\" cy=\"2.5\" r=\"0.16200000000000003\" stroke=\"#555555\" stroke-width=\"0.054000000000000006\" fill=\"#66cc99\" opacity=\"0.6\" /><circle cx=\"1.5\" cy=\"3.5\" r=\"0.16200000000000003\" stroke=\"#555555\" stroke-width=\"0.054000000000000006\" fill=\"#66cc99\" opacity=\"0.6\" /><circle cx=\"2.5\" cy=\"2.5\" r=\"0.16200000000000003\" stroke=\"#555555\" stroke-width=\"0.054000000000000006\" fill=\"#66cc99\" opacity=\"0.6\" /><circle cx=\"2.5\" cy=\"3.5\" r=\"0.16200000000000003\" stroke=\"#555555\" stroke-width=\"0.054000000000000006\" fill=\"#66cc99\" opacity=\"0.6\" /><circle cx=\"2.5\" cy=\"4.5\" r=\"0.16200000000000003\" stroke=\"#555555\" stroke-width=\"0.054000000000000006\" fill=\"#66cc99\" opacity=\"0.6\" /><circle cx=\"2.5\" cy=\"5.5\" r=\"0.16200000000000003\" stroke=\"#555555\" stroke-width=\"0.054000000000000006\" fill=\"#66cc99\" opacity=\"0.6\" /><circle cx=\"2.5\" cy=\"6.5\" r=\"0.16200000000000003\" stroke=\"#555555\" stroke-width=\"0.054000000000000006\" fill=\"#66cc99\" opacity=\"0.6\" /><circle cx=\"3.5\" cy=\"2.5\" r=\"0.16200000000000003\" stroke=\"#555555\" stroke-width=\"0.054000000000000006\" fill=\"#66cc99\" opacity=\"0.6\" /><circle cx=\"3.5\" cy=\"3.5\" r=\"0.16200000000000003\" stroke=\"#555555\" stroke-width=\"0.054000000000000006\" fill=\"#66cc99\" opacity=\"0.6\" /><circle cx=\"3.5\" cy=\"4.5\" r=\"0.16200000000000003\" stroke=\"#555555\" stroke-width=\"0.054000000000000006\" fill=\"#66cc99\" opacity=\"0.6\" /><circle cx=\"3.5\" cy=\"5.5\" r=\"0.16200000000000003\" stroke=\"#555555\" stroke-width=\"0.054000000000000006\" fill=\"#66cc99\" opacity=\"0.6\" /><circle cx=\"4.5\" cy=\"2.5\" r=\"0.16200000000000003\" stroke=\"#555555\" stroke-width=\"0.054000000000000006\" fill=\"#66cc99\" opacity=\"0.6\" /><circle cx=\"4.5\" cy=\"3.5\" r=\"0.16200000000000003\" stroke=\"#555555\" stroke-width=\"0.054000000000000006\" fill=\"#66cc99\" opacity=\"0.6\" /><circle cx=\"4.5\" cy=\"4.5\" r=\"0.16200000000000003\" stroke=\"#555555\" stroke-width=\"0.054000000000000006\" fill=\"#66cc99\" opacity=\"0.6\" /><circle cx=\"4.5\" cy=\"5.5\" r=\"0.16200000000000003\" stroke=\"#555555\" stroke-width=\"0.054000000000000006\" fill=\"#66cc99\" opacity=\"0.6\" /><circle cx=\"5.5\" cy=\"3.5\" r=\"0.16200000000000003\" stroke=\"#555555\" stroke-width=\"0.054000000000000006\" fill=\"#66cc99\" opacity=\"0.6\" /><circle cx=\"5.5\" cy=\"4.5\" r=\"0.16200000000000003\" stroke=\"#555555\" stroke-width=\"0.054000000000000006\" fill=\"#66cc99\" opacity=\"0.6\" /><circle cx=\"6.5\" cy=\"3.5\" r=\"0.16200000000000003\" stroke=\"#555555\" stroke-width=\"0.054000000000000006\" fill=\"#66cc99\" opacity=\"0.6\" /><circle cx=\"6.5\" cy=\"4.5\" r=\"0.16200000000000003\" stroke=\"#555555\" stroke-width=\"0.054000000000000006\" fill=\"#66cc99\" opacity=\"0.6\" /></g></g></svg>",
      "text/plain": [
       "<shapely.geometry.multipoint.MultiPoint at 0x218ba49d7c0>"
      ]
     },
     "execution_count": 92,
     "metadata": {},
     "output_type": "execute_result"
    }
   ],
   "source": [
    "points_in = points.intersection(poly)\n",
    "points_in"
   ]
  },
  {
   "cell_type": "code",
   "execution_count": 93,
   "metadata": {},
   "outputs": [
    {
     "data": {
      "text/plain": [
       "[<shapely.geometry.polygon.Polygon at 0x218ba309460>,\n",
       " <shapely.geometry.multipoint.MultiPoint at 0x218ba49d7c0>]"
      ]
     },
     "execution_count": 93,
     "metadata": {},
     "output_type": "execute_result"
    }
   ],
   "source": [
    "[poly, points_in]"
   ]
  },
  {
   "cell_type": "code",
   "execution_count": 76,
   "metadata": {},
   "outputs": [
    {
     "data": {
      "text/plain": [
       "'MULTIPOINT (1.5 1.5, 1.5 2.5, 1.5 3.5, 2.5 2.5, 2.5 3.5, 2.5 4.5, 2.5 5.5, 2.5 6.5, 3.5 2.5, 3.5 3.5, 3.5 4.5, 3.5 5.5, 4.5 2.5, 4.5 3.5, 4.5 4.5, 4.5 5.5, 5.5 3.5, 5.5 4.5, 6.5 3.5, 6.5 4.5)'"
      ]
     },
     "execution_count": 76,
     "metadata": {},
     "output_type": "execute_result"
    }
   ],
   "source": [
    "points_in.wkt"
   ]
  },
  {
   "cell_type": "code",
   "execution_count": 61,
   "metadata": {},
   "outputs": [
    {
     "name": "stderr",
     "output_type": "stream",
     "text": [
      "c:\\Users\\hwang\\.conda\\envs\\easyidp\\lib\\site-packages\\IPython\\core\\interactiveshell.py:3398: ShapelyDeprecationWarning: The array interface is deprecated and will no longer work in Shapely 2.0. Convert the '.coords' to a numpy array instead.\n",
      "  exec(code_obj, self.user_global_ns, self.user_ns)\n"
     ]
    },
    {
     "data": {
      "text/plain": [
       "array([[1.5, 1.5],\n",
       "       [1.5, 2.5],\n",
       "       [1.5, 3.5],\n",
       "       [2.5, 2.5],\n",
       "       [2.5, 3.5],\n",
       "       [2.5, 4.5],\n",
       "       [2.5, 5.5],\n",
       "       [2.5, 6.5],\n",
       "       [3.5, 2.5],\n",
       "       [3.5, 3.5],\n",
       "       [3.5, 4.5],\n",
       "       [3.5, 5.5],\n",
       "       [4.5, 2.5],\n",
       "       [4.5, 3.5],\n",
       "       [4.5, 4.5],\n",
       "       [4.5, 5.5],\n",
       "       [5.5, 3.5],\n",
       "       [5.5, 4.5],\n",
       "       [6.5, 3.5],\n",
       "       [6.5, 4.5]])"
      ]
     },
     "execution_count": 61,
     "metadata": {},
     "output_type": "execute_result"
    }
   ],
   "source": [
    "np.array(points_in)"
   ]
  },
  {
   "cell_type": "code",
   "execution_count": 79,
   "metadata": {},
   "outputs": [],
   "source": [
    "import warnings\n",
    "warnings.filterwarnings(\"ignore\")"
   ]
  },
  {
   "cell_type": "code",
   "execution_count": 81,
   "metadata": {},
   "outputs": [
    {
     "data": {
      "text/plain": [
       "array([[1, 1],\n",
       "       [1, 2],\n",
       "       [1, 3],\n",
       "       [2, 2],\n",
       "       [2, 3],\n",
       "       [2, 4],\n",
       "       [2, 5],\n",
       "       [2, 6],\n",
       "       [3, 2],\n",
       "       [3, 3],\n",
       "       [3, 4],\n",
       "       [3, 5],\n",
       "       [4, 2],\n",
       "       [4, 3],\n",
       "       [4, 4],\n",
       "       [4, 5],\n",
       "       [5, 3],\n",
       "       [5, 4],\n",
       "       [6, 3],\n",
       "       [6, 4]])"
      ]
     },
     "execution_count": 81,
     "metadata": {},
     "output_type": "execute_result"
    }
   ],
   "source": [
    "idx = (np.array(points_in) - 0.5).astype(int)\n",
    "idx"
   ]
  },
  {
   "cell_type": "code",
   "execution_count": 84,
   "metadata": {},
   "outputs": [
    {
     "data": {
      "text/plain": [
       "array([[False, False, False, False, False, False, False, False, False,\n",
       "        False],\n",
       "       [False, False, False, False, False, False, False, False, False,\n",
       "        False],\n",
       "       [False, False, False, False, False, False, False, False, False,\n",
       "        False],\n",
       "       [False, False, False, False, False, False, False, False, False,\n",
       "        False],\n",
       "       [False, False, False, False, False, False, False, False, False,\n",
       "        False],\n",
       "       [False, False, False, False, False, False, False, False, False,\n",
       "        False],\n",
       "       [False, False, False, False, False, False, False, False, False,\n",
       "        False],\n",
       "       [False, False, False, False, False, False, False, False, False,\n",
       "        False],\n",
       "       [False, False, False, False, False, False, False, False, False,\n",
       "        False],\n",
       "       [False, False, False, False, False, False, False, False, False,\n",
       "        False]])"
      ]
     },
     "execution_count": 84,
     "metadata": {},
     "output_type": "execute_result"
    }
   ],
   "source": [
    "mask = np.zeros(img_shape, dtype=bool)\n",
    "mask"
   ]
  },
  {
   "cell_type": "code",
   "execution_count": 86,
   "metadata": {},
   "outputs": [
    {
     "data": {
      "text/plain": [
       "array([[False, False, False, False, False, False, False, False, False,\n",
       "        False],\n",
       "       [False,  True,  True,  True, False, False, False, False, False,\n",
       "        False],\n",
       "       [False, False,  True,  True,  True,  True,  True, False, False,\n",
       "        False],\n",
       "       [False, False,  True,  True,  True,  True, False, False, False,\n",
       "        False],\n",
       "       [False, False,  True,  True,  True,  True, False, False, False,\n",
       "        False],\n",
       "       [False, False, False,  True,  True, False, False, False, False,\n",
       "        False],\n",
       "       [False, False, False,  True,  True, False, False, False, False,\n",
       "        False],\n",
       "       [False, False, False, False, False, False, False, False, False,\n",
       "        False],\n",
       "       [False, False, False, False, False, False, False, False, False,\n",
       "        False],\n",
       "       [False, False, False, False, False, False, False, False, False,\n",
       "        False]])"
      ]
     },
     "execution_count": 86,
     "metadata": {},
     "output_type": "execute_result"
    }
   ],
   "source": [
    "mask[idx[:,0], idx[:,1]] = True\n",
    "mask"
   ]
  },
  {
   "cell_type": "code",
   "execution_count": 103,
   "metadata": {},
   "outputs": [
    {
     "data": {
      "image/png": "[encoded data removed]",
      "text/plain": [
       "<Figure size 432x288 with 1 Axes>"
      ]
     },
     "metadata": {
      "needs_background": "light"
     },
     "output_type": "display_data"
    }
   ],
   "source": [
    "fig, ax = plt.subplots(1,1)\n",
    "\n",
    "plt.imshow(mask)\n",
    "\n",
    "ax.plot(*np.flip(xy-0.5,axis=1).T)   # plt.imshow shift 0.5 pixels\n",
    "\n",
    "plt.show()"
   ]
  },
  {
   "cell_type": "code",
   "execution_count": 102,
   "metadata": {},
   "outputs": [
    {
     "data": {
      "image/png": "[encoded data removed]",
      "text/plain": [
       "<Figure size 360x360 with 1 Axes>"
      ]
     },
     "metadata": {
      "needs_background": "light"
     },
     "output_type": "display_data"
    }
   ],
   "source": [
    "fig, ax = plt.subplots(1,1, figsize=(5,5))\n",
    "ax.scatter(*np.array(points).T, c='k')\n",
    "ax.plot(*poly.exterior.xy)\n",
    "ax.scatter(*np.array(points_in).T, c='r')\n",
    "ax.axis('equal')\n",
    "\n",
    "plt.grid()\n",
    "\n",
    "ax.set_xlim(0,10)\n",
    "ax.set_ylim(0,10)\n",
    "\n",
    "plt.show()\n"
   ]
  },
  {
   "cell_type": "markdown",
   "metadata": {},
   "source": [
    "```python\n",
    "# more efficient way for complex polygon\n",
    "# https://shapely.readthedocs.io/en/latest/manual.html#prepared-geometry-operations\n",
    "\n",
    "from shapely.prepared import prep\n",
    "\n",
    "prepared_polygon = prep(poly)\n",
    "\n",
    "# seems points need to be [Point, Point, Point,] rather than Multipoint\n",
    "```\n",
    "\n",
    "---\n",
    "\n",
    "重新设计一下逻辑\n",
    "如果输入的type是int，意味着为准确的像素，则所有的坐标偏移0.5，如果输入的float，说明为地理类信息？不用进行坐标偏移"
   ]
  },
  {
   "cell_type": "code",
   "execution_count": 188,
   "metadata": {},
   "outputs": [],
   "source": [
    "def _view_poly2mask(poly, mask, pix_all, pix_in):\n",
    "    h, w = mask.shape\n",
    "\n",
    "    fig, ax = plt.subplots(1,1, figsize=(7, 7 * h/w))\n",
    "\n",
    "    # draw figures\n",
    "    # https://matplotlib.org/stable/tutorials/intermediate/imshow_extent.html\n",
    "    ax.imshow(mask, extent=[0, w, 0, h], origin=\"lower\", cmap=\"Pastel1_r\")\n",
    "\n",
    "    # -------------\n",
    "    # draw scatters\n",
    "    # -------------\n",
    "\n",
    "    # the coordinate system is reversed for axes\n",
    "    poly = np.flip(poly, axis=1)\n",
    "    pix_in = np.flip(pix_in, axis=1)\n",
    "    pix_all = np.flip(pix_all, axis=1)\n",
    "\n",
    "    ax.scatter(*np.array(pix_all).T, c='k')\n",
    "    ax.plot(*(poly).T)\n",
    "    ax.scatter(*np.array(pix_in).T, c='r')\n",
    "    ax.axis('equal')\n",
    "\n",
    "    #plt.grid()\n",
    "\n",
    "    ax.set_xlim(0,w)\n",
    "    ax.set_ylim(0,h)\n",
    "\n",
    "    ax.set_xlabel(\"Y\")\n",
    "    ax.set_ylabel(\"X\")\n",
    "\n",
    "    plt.gca().invert_yaxis()\n",
    "\n",
    "    plt.show()"
   ]
  },
  {
   "cell_type": "code",
   "execution_count": 189,
   "metadata": {},
   "outputs": [
    {
     "data": {
      "image/png": "[encoded data removed]",
      "text/plain": [
       "<Figure size 504x504 with 1 Axes>"
      ]
     },
     "metadata": {
      "needs_background": "light"
     },
     "output_type": "display_data"
    }
   ],
   "source": [
    "_view_poly2mask(xy, mask, np.array(points), np.array(points_in))"
   ]
  },
  {
   "cell_type": "markdown",
   "metadata": {},
   "source": [
    "# check packed functions"
   ]
  },
  {
   "cell_type": "code",
   "execution_count": 151,
   "metadata": {},
   "outputs": [],
   "source": [
    "import sys\n",
    "sys.path.insert(0, '..')"
   ]
  },
  {
   "cell_type": "code",
   "execution_count": 152,
   "metadata": {},
   "outputs": [],
   "source": [
    "import easyidp"
   ]
  },
  {
   "cell_type": "code",
   "execution_count": 193,
   "metadata": {},
   "outputs": [],
   "source": [
    "coord = np.array([[1,1],[7,8],[8,5],[6,3],[1,1]], dtype=np.int8)"
   ]
  },
  {
   "cell_type": "code",
   "execution_count": 194,
   "metadata": {},
   "outputs": [],
   "source": [
    "def polygon2mask(image_shape, poly_coord, all_touched=False, preview=False):\n",
    "    # https://stackoverflow.com/questions/62280398/checking-if-a-point-is-contained-in-a-polygon-multipolygon-for-many-points\n",
    "\n",
    "    # all_touched: https://pygis.io/_images/zonal_stats.jpg\n",
    "\n",
    "    h, w = image_shape\n",
    "\n",
    "    # check whether the poly_coords out of mask boundary\n",
    "    xmin, ymin = poly_coord.min(axis=0)\n",
    "    xmax, ymax = poly_coord.max(axis=0)\n",
    "\n",
    "    if xmin < 0 or ymin < 0 or xmax >= h or ymax >= w:\n",
    "        raise ValueError(\"The polygon is out of mask boundary\")\n",
    "\n",
    "    mask = np.zeros(image_shape, dtype=bool)\n",
    "\n",
    "    if all_touched:\n",
    "        pass\n",
    "    else:\n",
    "        # use the pixel center as judgement points\n",
    "        x = np.arange(0, h) + 0.5\n",
    "        y = np.arange(0, w) + 0.5\n",
    "\n",
    "        xx, yy = np.meshgrid(x, y)\n",
    "\n",
    "        # get the coordinates of all pixel points\n",
    "        pts = np.array([xx.ravel(), yy.ravel()]).T\n",
    "        points = MultiPoint(pts)\n",
    "\n",
    "        # judge the type of polygon coordinates\n",
    "        if np.issubdtype(poly_coord.dtype, np.integer):\n",
    "            # is int type, mainly means it represent\n",
    "            # the id of int rather than coords xy values\n",
    "            # -> shift 0.5 as the pixel center\n",
    "            poly = Polygon(poly_coord + 0.5)\n",
    "        elif np.issubdtype(poly_coord.dtype, np.float):\n",
    "            poly = Polygon(poly_coord)\n",
    "        else:\n",
    "            raise TypeError(\"Only numpy integer and float types are allowed\")\n",
    "\n",
    "        points_in = points.intersection(poly)\n",
    "\n",
    "        # here will raise warning when obtain coords from shapely multipoints\n",
    "        # -0.5 turns points center coords to point id\n",
    "        # here are point index of \"masked\" pixels\n",
    "        idx = (np.array(points_in) - 0.5).astype(int)\n",
    "\n",
    "    # turn to masks\n",
    "    mask[idx[:,0], idx[:,1]] = True\n",
    "\n",
    "    # draw figures\n",
    "    _view_poly2mask(poly.exterior.coords, mask, pts, np.array(points_in))\n",
    "\n",
    "    return mask"
   ]
  },
  {
   "cell_type": "code",
   "execution_count": 195,
   "metadata": {},
   "outputs": [
    {
     "data": {
      "image/png": "[encoded data removed]",
      "text/plain": [
       "<Figure size 504x756 with 1 Axes>"
      ]
     },
     "metadata": {
      "needs_background": "light"
     },
     "output_type": "display_data"
    }
   ],
   "source": [
    "mask2 = polygon2mask((15, 10), coord)"
   ]
  },
  {
   "cell_type": "markdown",
   "metadata": {},
   "source": [
    "---"
   ]
  },
  {
   "cell_type": "code",
   "execution_count": 196,
   "metadata": {},
   "outputs": [
    {
     "data": {
      "image/png": "[encoded data removed]",
      "text/plain": [
       "<Figure size 504x504 with 1 Axes>"
      ]
     },
     "metadata": {
      "needs_background": "light"
     },
     "output_type": "display_data"
    }
   ],
   "source": [
    "mask3 = polygon2mask((10, 10), xy)"
   ]
  },
  {
   "cell_type": "markdown",
   "metadata": {},
   "source": [
    "# all touched"
   ]
  },
  {
   "cell_type": "code",
   "execution_count": 206,
   "metadata": {},
   "outputs": [],
   "source": [
    "x = np.arange(0, h+1, dtype=int)\n",
    "y = np.arange(0, w+1, dtype=int)"
   ]
  },
  {
   "cell_type": "code",
   "execution_count": 207,
   "metadata": {},
   "outputs": [
    {
     "data": {
      "text/plain": [
       "(array([ 0,  1,  2,  3,  4,  5,  6,  7,  8,  9, 10]),\n",
       " array([ 0,  1,  2,  3,  4,  5,  6,  7,  8,  9, 10]))"
      ]
     },
     "execution_count": 207,
     "metadata": {},
     "output_type": "execute_result"
    }
   ],
   "source": [
    "x, y"
   ]
  },
  {
   "cell_type": "code",
   "execution_count": 208,
   "metadata": {},
   "outputs": [],
   "source": [
    "xx, yy = np.meshgrid(x, y)"
   ]
  },
  {
   "cell_type": "code",
   "execution_count": 210,
   "metadata": {},
   "outputs": [],
   "source": [
    "pts = np.array([xx.ravel(), yy.ravel()], dtype=int).T\n",
    "points = MultiPoint(pts)"
   ]
  },
  {
   "cell_type": "code",
   "execution_count": 216,
   "metadata": {},
   "outputs": [
    {
     "data": {
      "text/plain": [
       "'MULTIPOINT (0 0, 1 0, 2 0, 3 0, 4 0, 5 0, 6 0, 7 0, 8 0, 9 0, 10 0, 0 1, 1 1, 2 1, 3 1, 4 1, 5 1, 6 1, 7 1, 8 1, 9 1, 10 1, 0 2, 1 2, 2 2, 3 2, 4 2, 5 2, 6 2, 7 2, 8 2, 9 2, 10 2, 0 3, 1 3, 2 3, 3 3, 4 3, 5 3, 6 3, 7 3, 8 3, 9 3, 10 3, 0 4, 1 4, 2 4, 3 4, 4 4, 5 4, 6 4, 7 4, 8 4, 9 4, 10 4, 0 5, 1 5, 2 5, 3 5, 4 5, 5 5, 6 5, 7 5, 8 5, 9 5, 10 5, 0 6, 1 6, 2 6, 3 6, 4 6, 5 6, 6 6, 7 6, 8 6, 9 6, 10 6, 0 7, 1 7, 2 7, 3 7, 4 7, 5 7, 6 7, 7 7, 8 7, 9 7, 10 7, 0 8, 1 8, 2 8, 3 8, 4 8, 5 8, 6 8, 7 8, 8 8, 9 8, 10 8, 0 9, 1 9, 2 9, 3 9, 4 9, 5 9, 6 9, 7 9, 8 9, 9 9, 10 9, 0 10, 1 10, 2 10, 3 10, 4 10, 5 10, 6 10, 7 10, 8 10, 9 10, 10 10)'"
      ]
     },
     "execution_count": 216,
     "metadata": {},
     "output_type": "execute_result"
    }
   ],
   "source": [
    "points.wkt"
   ]
  },
  {
   "cell_type": "code",
   "execution_count": 211,
   "metadata": {},
   "outputs": [],
   "source": [
    "poly = Polygon(xy + 0.5)"
   ]
  },
  {
   "cell_type": "code",
   "execution_count": 254,
   "metadata": {},
   "outputs": [
    {
     "data": {
      "text/plain": [
       "array([[1.5, 1.5],\n",
       "       [2.5, 7.5],\n",
       "       [8.5, 4.5],\n",
       "       [1.5, 1.5]])"
      ]
     },
     "execution_count": 254,
     "metadata": {},
     "output_type": "execute_result"
    }
   ],
   "source": [
    "np.array(poly.exterior.coords)"
   ]
  },
  {
   "cell_type": "code",
   "execution_count": 212,
   "metadata": {},
   "outputs": [],
   "source": [
    "points_in = points.intersection(poly)"
   ]
  },
  {
   "cell_type": "code",
   "execution_count": 217,
   "metadata": {},
   "outputs": [
    {
     "data": {
      "text/plain": [
       "'MULTIPOINT (2 2, 2 3, 2 4, 3 3, 3 4, 3 5, 3 6, 3 7, 4 3, 4 4, 4 5, 4 6, 5 3, 5 4, 5 5, 5 6, 6 4, 6 5, 7 4, 7 5)'"
      ]
     },
     "execution_count": 217,
     "metadata": {},
     "output_type": "execute_result"
    }
   ],
   "source": [
    "points_in.wkt"
   ]
  },
  {
   "cell_type": "code",
   "execution_count": 221,
   "metadata": {},
   "outputs": [
    {
     "data": {
      "text/plain": [
       "array([[2, 2],\n",
       "       [2, 3],\n",
       "       [2, 4],\n",
       "       [3, 3],\n",
       "       [3, 4],\n",
       "       [3, 5],\n",
       "       [3, 6],\n",
       "       [3, 7],\n",
       "       [4, 3],\n",
       "       [4, 4],\n",
       "       [4, 5],\n",
       "       [4, 6],\n",
       "       [5, 3],\n",
       "       [5, 4],\n",
       "       [5, 5],\n",
       "       [5, 6],\n",
       "       [6, 4],\n",
       "       [6, 5],\n",
       "       [7, 4],\n",
       "       [7, 5]])"
      ]
     },
     "execution_count": 221,
     "metadata": {},
     "output_type": "execute_result"
    }
   ],
   "source": [
    "idx = np.array(points_in, dtype=int)\n",
    "idx"
   ]
  },
  {
   "cell_type": "code",
   "execution_count": 222,
   "metadata": {},
   "outputs": [
    {
     "data": {
      "text/plain": [
       "array([[2, 2],\n",
       "       [2, 3],\n",
       "       [2, 4],\n",
       "       [3, 3],\n",
       "       [3, 4],\n",
       "       [3, 5],\n",
       "       [3, 6],\n",
       "       [3, 7],\n",
       "       [4, 3],\n",
       "       [4, 4],\n",
       "       [4, 5],\n",
       "       [4, 6],\n",
       "       [5, 3],\n",
       "       [5, 4],\n",
       "       [5, 5],\n",
       "       [5, 6],\n",
       "       [6, 4],\n",
       "       [6, 5],\n",
       "       [7, 4],\n",
       "       [7, 5],\n",
       "       [2, 1],\n",
       "       [2, 2],\n",
       "       [2, 3],\n",
       "       [3, 2],\n",
       "       [3, 3],\n",
       "       [3, 4],\n",
       "       [3, 5],\n",
       "       [3, 6],\n",
       "       [4, 2],\n",
       "       [4, 3],\n",
       "       [4, 4],\n",
       "       [4, 5],\n",
       "       [5, 2],\n",
       "       [5, 3],\n",
       "       [5, 4],\n",
       "       [5, 5],\n",
       "       [6, 3],\n",
       "       [6, 4],\n",
       "       [7, 3],\n",
       "       [7, 4],\n",
       "       [1, 2],\n",
       "       [1, 3],\n",
       "       [1, 4],\n",
       "       [2, 3],\n",
       "       [2, 4],\n",
       "       [2, 5],\n",
       "       [2, 6],\n",
       "       [2, 7],\n",
       "       [3, 3],\n",
       "       [3, 4],\n",
       "       [3, 5],\n",
       "       [3, 6],\n",
       "       [4, 3],\n",
       "       [4, 4],\n",
       "       [4, 5],\n",
       "       [4, 6],\n",
       "       [5, 4],\n",
       "       [5, 5],\n",
       "       [6, 4],\n",
       "       [6, 5],\n",
       "       [1, 1],\n",
       "       [1, 2],\n",
       "       [1, 3],\n",
       "       [2, 2],\n",
       "       [2, 3],\n",
       "       [2, 4],\n",
       "       [2, 5],\n",
       "       [2, 6],\n",
       "       [3, 2],\n",
       "       [3, 3],\n",
       "       [3, 4],\n",
       "       [3, 5],\n",
       "       [4, 2],\n",
       "       [4, 3],\n",
       "       [4, 4],\n",
       "       [4, 5],\n",
       "       [5, 3],\n",
       "       [5, 4],\n",
       "       [6, 3],\n",
       "       [6, 4]])"
      ]
     },
     "execution_count": 222,
     "metadata": {},
     "output_type": "execute_result"
    }
   ],
   "source": [
    "# =======================\n",
    "#         A      B\n",
    "#  x------x------x------\n",
    "#  |      |  K   |\n",
    "#  |      |(0,1) |\n",
    "#  x------x------x------\n",
    "#  |    C |      | D\n",
    "\n",
    "#  x is grid points, \n",
    "#  ABCD are left upper, right upper, left down, right down\n",
    "#  of pixel K.\n",
    "#  Their points relationship\n",
    "#  \n",
    "#          grid pts  operate -> pixel id\n",
    "#          --------  -------    --------\n",
    "#  A (LU)   (0, 1)    -(0,0)     (0, 1)\n",
    "#  B (RU)   (0, 2)    -(0,1)     (0, 1)\n",
    "#  C (LD)   (1, 1)    -(1,0)     (0, 1)\n",
    "#  D (RD)   (1, 2)    -(1,1)     (0, 1)\n",
    "\n",
    "idx_ru = idx - np.array([0,1])\n",
    "idx_ld = idx - np.array([1,0])\n",
    "idx_rd = idx - np.array([1,1])\n",
    "\n",
    "idx_merge = np.vstack([idx, idx_ru, idx_ld, idx_rd])\n",
    "idx_merge\n"
   ]
  },
  {
   "cell_type": "code",
   "execution_count": 232,
   "metadata": {},
   "outputs": [
    {
     "data": {
      "text/plain": [
       "array([0, 1, 1, 3], dtype=int64)"
      ]
     },
     "execution_count": 232,
     "metadata": {},
     "output_type": "execute_result"
    }
   ],
   "source": [
    "ix, iy = np.where(np.array([[-1,0],[-1,-1],[2,3], [3, -1]]) == -1)\n",
    "ix"
   ]
  },
  {
   "cell_type": "code",
   "execution_count": 228,
   "metadata": {},
   "outputs": [
    {
     "data": {
      "text/plain": [
       "array([[1, 1],\n",
       "       [1, 2],\n",
       "       [1, 3],\n",
       "       [1, 4],\n",
       "       [2, 1],\n",
       "       [2, 2],\n",
       "       [2, 3],\n",
       "       [2, 4],\n",
       "       [2, 5],\n",
       "       [2, 6],\n",
       "       [2, 7],\n",
       "       [3, 2],\n",
       "       [3, 3],\n",
       "       [3, 4],\n",
       "       [3, 5],\n",
       "       [3, 6],\n",
       "       [3, 7],\n",
       "       [4, 2],\n",
       "       [4, 3],\n",
       "       [4, 4],\n",
       "       [4, 5],\n",
       "       [4, 6],\n",
       "       [5, 2],\n",
       "       [5, 3],\n",
       "       [5, 4],\n",
       "       [5, 5],\n",
       "       [5, 6],\n",
       "       [6, 3],\n",
       "       [6, 4],\n",
       "       [6, 5],\n",
       "       [7, 3],\n",
       "       [7, 4],\n",
       "       [7, 5]])"
      ]
     },
     "execution_count": 228,
     "metadata": {},
     "output_type": "execute_result"
    }
   ],
   "source": [
    "idx_unique = np.unique(idx_merge, axis=0)\n",
    "idx_unique"
   ]
  },
  {
   "cell_type": "code",
   "execution_count": 239,
   "metadata": {},
   "outputs": [
    {
     "data": {
      "text/plain": [
       "(33, 2)"
      ]
     },
     "execution_count": 239,
     "metadata": {},
     "output_type": "execute_result"
    }
   ],
   "source": [
    "idx_unique.shape"
   ]
  },
  {
   "cell_type": "code",
   "execution_count": 230,
   "metadata": {},
   "outputs": [
    {
     "data": {
      "text/plain": [
       "array([[-1,  0],\n",
       "       [-1, -1],\n",
       "       [ 2,  3],\n",
       "       [ 3, -1]])"
      ]
     },
     "execution_count": 230,
     "metadata": {},
     "output_type": "execute_result"
    }
   ],
   "source": [
    "iii = np.array([[-1,0],[-1,-1],[2,3], [3, -1]])\n",
    "iii"
   ]
  },
  {
   "cell_type": "code",
   "execution_count": 234,
   "metadata": {},
   "outputs": [
    {
     "data": {
      "text/plain": [
       "array([[2, 3]])"
      ]
     },
     "execution_count": 234,
     "metadata": {},
     "output_type": "execute_result"
    }
   ],
   "source": [
    "np.delete(iii, np.unique(ix), axis=0)"
   ]
  },
  {
   "cell_type": "code",
   "execution_count": 242,
   "metadata": {},
   "outputs": [
    {
     "data": {
      "text/plain": [
       "(45, 2)"
      ]
     },
     "execution_count": 242,
     "metadata": {},
     "output_type": "execute_result"
    }
   ],
   "source": [
    "# add somw remove data\n",
    "rm_data = np.array([[-1, 0],\n",
    "                    [1, -1],\n",
    "                    [3,10],\n",
    "                    [10,10],\n",
    "                    [-1, 10],\n",
    "                    [10, -1]])\n",
    "\n",
    "idx_unique = np.vstack([idx_unique, rm_data])\n",
    "idx_unique.shape"
   ]
  },
  {
   "cell_type": "code",
   "execution_count": 248,
   "metadata": {},
   "outputs": [
    {
     "name": "stdout",
     "output_type": "stream",
     "text": [
      "[33 34 37 38 39 40 43 44] [35 36 37 41 42 43] [36 38 42 44]\n"
     ]
    }
   ],
   "source": [
    "# remove outliers (-1 and out of bound)\n",
    "\n",
    "id_meet_left_top_bound = np.where(idx_unique == -1)[0]  # [0] only get row id\n",
    "id_meet_right_bound = np.where(idx_unique[:, 1] == w)[0]\n",
    "id_meet_bottom_bound = np.where(idx_unique[:, 0] == h)[0]\n",
    "\n",
    "print(id_meet_left_top_bound, id_meet_right_bound, id_meet_bottom_bound)\n",
    "\n",
    "idx_del = np.concatenate([id_meet_left_top_bound, \n",
    "                          id_meet_right_bound,\n",
    "                          id_meet_bottom_bound])\n",
    "\n",
    "idx_fin = np.delete(idx_unique, np.unique(idx_del), axis=0)"
   ]
  },
  {
   "cell_type": "code",
   "execution_count": 250,
   "metadata": {},
   "outputs": [
    {
     "data": {
      "text/plain": [
       "(33, 2)"
      ]
     },
     "execution_count": 250,
     "metadata": {},
     "output_type": "execute_result"
    }
   ],
   "source": [
    "idx_fin.shape"
   ]
  },
  {
   "cell_type": "code",
   "execution_count": 251,
   "metadata": {},
   "outputs": [
    {
     "data": {
      "text/plain": [
       "array([[False, False, False, False, False, False, False, False, False,\n",
       "        False],\n",
       "       [False,  True,  True,  True,  True, False, False, False, False,\n",
       "        False],\n",
       "       [False,  True,  True,  True,  True,  True,  True,  True, False,\n",
       "        False],\n",
       "       [False, False,  True,  True,  True,  True,  True,  True, False,\n",
       "        False],\n",
       "       [False, False,  True,  True,  True,  True,  True, False, False,\n",
       "        False],\n",
       "       [False, False,  True,  True,  True,  True,  True, False, False,\n",
       "        False],\n",
       "       [False, False, False,  True,  True,  True, False, False, False,\n",
       "        False],\n",
       "       [False, False, False,  True,  True,  True, False, False, False,\n",
       "        False],\n",
       "       [False, False, False, False, False, False, False, False, False,\n",
       "        False],\n",
       "       [False, False, False, False, False, False, False, False, False,\n",
       "        False]])"
      ]
     },
     "execution_count": 251,
     "metadata": {},
     "output_type": "execute_result"
    }
   ],
   "source": [
    "mask[idx_fin[:,0], idx_fin[:,1]] = True\n",
    "mask"
   ]
  },
  {
   "cell_type": "code",
   "execution_count": 253,
   "metadata": {},
   "outputs": [
    {
     "data": {
      "image/png": "[encoded data removed]",
      "text/plain": [
       "<Figure size 432x288 with 1 Axes>"
      ]
     },
     "metadata": {
      "needs_background": "light"
     },
     "output_type": "display_data"
    }
   ],
   "source": [
    "fig, ax = plt.subplots(1,1)\n",
    "\n",
    "plt.imshow(mask)\n",
    "\n",
    "ax.plot(*np.flip(xy,axis=1).T)   # plt.imshow shift 0.5 pixels\n",
    "\n",
    "plt.show()"
   ]
  },
  {
   "cell_type": "markdown",
   "metadata": {},
   "source": [
    "看来下面还需要和之前的结果重叠到一起？\n",
    "\n",
    "直接放弃吧==\n",
    "\n",
    "---\n",
    "\n",
    "# 使用SRT树加速"
   ]
  },
  {
   "cell_type": "code",
   "execution_count": 255,
   "metadata": {},
   "outputs": [],
   "source": [
    "lxy = np.array([[1000, 1000],\n",
    "                [7000, 2000],\n",
    "                [4000, 8000],\n",
    "                [1000, 1000]])"
   ]
  },
  {
   "cell_type": "code",
   "execution_count": 257,
   "metadata": {},
   "outputs": [],
   "source": [
    "lh = 11000\n",
    "lw = 10000 "
   ]
  },
  {
   "cell_type": "code",
   "execution_count": 258,
   "metadata": {},
   "outputs": [],
   "source": [
    "lmask = np.zeros((lh, lw), dtype=bool)"
   ]
  },
  {
   "cell_type": "code",
   "execution_count": 260,
   "metadata": {},
   "outputs": [],
   "source": [
    "lx = np.arange(0, lw) + 0.5\n",
    "ly = np.arange(0, lh) + 0.5\n",
    "\n",
    "lxx, lyy = np.meshgrid(lx, ly)"
   ]
  },
  {
   "cell_type": "code",
   "execution_count": 263,
   "metadata": {},
   "outputs": [
    {
     "data": {
      "text/plain": [
       "array([[5.00000e-01, 5.00000e-01],\n",
       "       [5.00000e-01, 1.50000e+00],\n",
       "       [5.00000e-01, 2.50000e+00],\n",
       "       ...,\n",
       "       [1.09995e+04, 9.99750e+03],\n",
       "       [1.09995e+04, 9.99850e+03],\n",
       "       [1.09995e+04, 9.99950e+03]])"
      ]
     },
     "execution_count": 263,
     "metadata": {},
     "output_type": "execute_result"
    }
   ],
   "source": [
    "lpts = np.array([lyy.ravel(), lxx.ravel()]).T\n",
    "lpts"
   ]
  },
  {
   "cell_type": "code",
   "execution_count": 265,
   "metadata": {},
   "outputs": [],
   "source": [
    "from shapely.strtree import STRtree\n",
    "from shapely.geometry import Point"
   ]
  },
  {
   "cell_type": "code",
   "execution_count": 267,
   "metadata": {},
   "outputs": [
    {
     "ename": "KeyboardInterrupt",
     "evalue": "",
     "output_type": "error",
     "traceback": [
      "\u001b[1;31m---------------------------------------------------------------------------\u001b[0m",
      "\u001b[1;31mKeyboardInterrupt\u001b[0m                         Traceback (most recent call last)",
      "\u001b[1;32md:\\OneDrive\\Program\\GitHub\\EasyIDP\\dev\\003_poly_mask.ipynb Cell 69'\u001b[0m in \u001b[0;36m<cell line: 1>\u001b[1;34m()\u001b[0m\n\u001b[1;32m----> <a href='vscode-notebook-cell:/d%3A/OneDrive/Program/GitHub/EasyIDP/dev/003_poly_mask.ipynb#ch0000093?line=0'>1</a>\u001b[0m points \u001b[39m=\u001b[39m MultiPoint(lpts)\n",
      "File \u001b[1;32mc:\\Users\\hwang\\.conda\\envs\\easyidp\\lib\\site-packages\\shapely\\geometry\\multipoint.py:55\u001b[0m, in \u001b[0;36mMultiPoint.__init__\u001b[1;34m(self, points)\u001b[0m\n\u001b[0;32m     53\u001b[0m     \u001b[39mpass\u001b[39;00m\n\u001b[0;32m     54\u001b[0m \u001b[39melse\u001b[39;00m:\n\u001b[1;32m---> 55\u001b[0m     geom, n \u001b[39m=\u001b[39m geos_multipoint_from_py(points)\n\u001b[0;32m     56\u001b[0m     \u001b[39mself\u001b[39m\u001b[39m.\u001b[39m_set_geom(geom)\n\u001b[0;32m     57\u001b[0m     \u001b[39mself\u001b[39m\u001b[39m.\u001b[39m_ndim \u001b[39m=\u001b[39m n\n",
      "File \u001b[1;32mc:\\Users\\hwang\\.conda\\envs\\easyidp\\lib\\site-packages\\shapely\\geometry\\multipoint.py:202\u001b[0m, in \u001b[0;36mgeos_multipoint_from_py\u001b[1;34m(ob)\u001b[0m\n\u001b[0;32m    200\u001b[0m \u001b[39mfor\u001b[39;00m i \u001b[39min\u001b[39;00m \u001b[39mrange\u001b[39m(m):\n\u001b[0;32m    201\u001b[0m     coords \u001b[39m=\u001b[39m ob[i]\n\u001b[1;32m--> 202\u001b[0m     geom, ndims \u001b[39m=\u001b[39m point\u001b[39m.\u001b[39;49mgeos_point_from_py(coords)\n\u001b[0;32m    204\u001b[0m     \u001b[39mif\u001b[39;00m lgeos\u001b[39m.\u001b[39mGEOSisEmpty(geom):\n\u001b[0;32m    205\u001b[0m         \u001b[39mraise\u001b[39;00m EmptyPartError(\u001b[39m\"\u001b[39m\u001b[39mCan\u001b[39m\u001b[39m'\u001b[39m\u001b[39mt create MultiPoint with empty component\u001b[39m\u001b[39m\"\u001b[39m)\n",
      "File \u001b[1;32mc:\\Users\\hwang\\.conda\\envs\\easyidp\\lib\\site-packages\\shapely\\geometry\\point.py:286\u001b[0m, in \u001b[0;36mgeos_point_from_py\u001b[1;34m(ob, update_geom, update_ndim)\u001b[0m\n\u001b[0;32m    284\u001b[0m     \u001b[39mreturn\u001b[39;00m \u001b[39mNone\u001b[39;00m\n\u001b[0;32m    285\u001b[0m \u001b[39melse\u001b[39;00m:\n\u001b[1;32m--> 286\u001b[0m     \u001b[39mreturn\u001b[39;00m lgeos\u001b[39m.\u001b[39;49mGEOSGeom_createPoint(cs), n\n",
      "\u001b[1;31mKeyboardInterrupt\u001b[0m: "
     ]
    }
   ],
   "source": [
    "points = MultiPoint(lpts)"
   ]
  },
  {
   "cell_type": "code",
   "execution_count": 266,
   "metadata": {},
   "outputs": [
    {
     "ename": "KeyboardInterrupt",
     "evalue": "",
     "output_type": "error",
     "traceback": [
      "\u001b[1;31m---------------------------------------------------------------------------\u001b[0m",
      "\u001b[1;31mKeyboardInterrupt\u001b[0m                         Traceback (most recent call last)",
      "\u001b[1;32md:\\OneDrive\\Program\\GitHub\\EasyIDP\\dev\\003_poly_mask.ipynb Cell 69'\u001b[0m in \u001b[0;36m<cell line: 1>\u001b[1;34m()\u001b[0m\n\u001b[1;32m----> <a href='vscode-notebook-cell:/d%3A/OneDrive/Program/GitHub/EasyIDP/dev/003_poly_mask.ipynb#ch0000090?line=0'>1</a>\u001b[0m points \u001b[39m=\u001b[39m [Point(i, j) \u001b[39mfor\u001b[39;00m i, j \u001b[39min\u001b[39;00m \u001b[39mzip\u001b[39m(lxx\u001b[39m.\u001b[39mravel(), lyy\u001b[39m.\u001b[39mravel())]\n",
      "\u001b[1;32md:\\OneDrive\\Program\\GitHub\\EasyIDP\\dev\\003_poly_mask.ipynb Cell 69'\u001b[0m in \u001b[0;36m<listcomp>\u001b[1;34m(.0)\u001b[0m\n\u001b[1;32m----> <a href='vscode-notebook-cell:/d%3A/OneDrive/Program/GitHub/EasyIDP/dev/003_poly_mask.ipynb#ch0000090?line=0'>1</a>\u001b[0m points \u001b[39m=\u001b[39m [Point(i, j) \u001b[39mfor\u001b[39;00m i, j \u001b[39min\u001b[39;00m \u001b[39mzip\u001b[39m(lxx\u001b[39m.\u001b[39mravel(), lyy\u001b[39m.\u001b[39mravel())]\n",
      "File \u001b[1;32mc:\\Users\\hwang\\.conda\\envs\\easyidp\\lib\\site-packages\\shapely\\geometry\\point.py:57\u001b[0m, in \u001b[0;36mPoint.__init__\u001b[1;34m(self, *args)\u001b[0m\n\u001b[0;32m     53\u001b[0m     \u001b[39mraise\u001b[39;00m \u001b[39mTypeError\u001b[39;00m(\n\u001b[0;32m     54\u001b[0m         \u001b[39m\"\u001b[39m\u001b[39mPoint() takes at most 3 arguments (\u001b[39m\u001b[39m{}\u001b[39;00m\u001b[39m given)\u001b[39m\u001b[39m\"\u001b[39m\u001b[39m.\u001b[39mformat(\u001b[39mlen\u001b[39m(args))\n\u001b[0;32m     55\u001b[0m     )\n\u001b[0;32m     56\u001b[0m \u001b[39melse\u001b[39;00m:\n\u001b[1;32m---> 57\u001b[0m     geom, n \u001b[39m=\u001b[39m geos_point_from_py(\u001b[39mtuple\u001b[39;49m(args))\n\u001b[0;32m     58\u001b[0m \u001b[39mself\u001b[39m\u001b[39m.\u001b[39m_set_geom(geom)\n\u001b[0;32m     59\u001b[0m \u001b[39mself\u001b[39m\u001b[39m.\u001b[39m_ndim \u001b[39m=\u001b[39m n\n",
      "File \u001b[1;32mc:\\Users\\hwang\\.conda\\envs\\easyidp\\lib\\site-packages\\shapely\\geometry\\point.py:286\u001b[0m, in \u001b[0;36mgeos_point_from_py\u001b[1;34m(ob, update_geom, update_ndim)\u001b[0m\n\u001b[0;32m    284\u001b[0m     \u001b[39mreturn\u001b[39;00m \u001b[39mNone\u001b[39;00m\n\u001b[0;32m    285\u001b[0m \u001b[39melse\u001b[39;00m:\n\u001b[1;32m--> 286\u001b[0m     \u001b[39mreturn\u001b[39;00m lgeos\u001b[39m.\u001b[39;49mGEOSGeom_createPoint(cs), n\n",
      "\u001b[1;31mKeyboardInterrupt\u001b[0m: "
     ]
    }
   ],
   "source": [
    "points = [Point(i, j) for i, j in zip(lxx.ravel(), lyy.ravel())]"
   ]
  },
  {
   "cell_type": "code",
   "execution_count": null,
   "metadata": {},
   "outputs": [],
   "source": []
  }
 ],
 "metadata": {
  "kernelspec": {
   "display_name": "Python 3.8.13 ('easyidp')",
   "language": "python",
   "name": "python3"
  },
  "language_info": {
   "codemirror_mode": {
    "name": "ipython",
    "version": 3
   },
   "file_extension": ".py",
   "mimetype": "text/x-python",
   "name": "python",
   "nbconvert_exporter": "python",
   "pygments_lexer": "ipython3",
   "version": "3.8.13"
  },
  "orig_nbformat": 4,
  "vscode": {
   "interpreter": {
    "hash": "37b84045dbd3b1b63dc225ef9ab210c438e45d226124df1289d7d0b5b9fdea16"
   }
  }
 },
 "nbformat": 4,
 "nbformat_minor": 2
}
