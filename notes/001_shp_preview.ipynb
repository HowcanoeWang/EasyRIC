{
 "cells": [
  {
   "cell_type": "code",
   "execution_count": 1,
   "metadata": {},
   "outputs": [],
   "source": [
    "import shapefile"
   ]
  },
  {
   "cell_type": "markdown",
   "metadata": {},
   "source": [
    "# preview_shp_column"
   ]
  },
  {
   "cell_type": "markdown",
   "metadata": {},
   "source": [
    "## example 1"
   ]
  },
  {
   "cell_type": "code",
   "execution_count": 3,
   "metadata": {},
   "outputs": [],
   "source": [
    "shp_path = \"../tests/data/shp_test/roi.shp\""
   ]
  },
  {
   "cell_type": "code",
   "execution_count": 4,
   "metadata": {},
   "outputs": [],
   "source": [
    "shp = shapefile.Reader(shp_path, encoding='utf-8')"
   ]
  },
  {
   "cell_type": "code",
   "execution_count": 6,
   "metadata": {},
   "outputs": [
    {
     "data": {
      "text/plain": [
       "[['id', 'N', 10, 0]]"
      ]
     },
     "execution_count": 6,
     "metadata": {},
     "output_type": "execute_result"
    }
   ],
   "source": [
    "fields = shp.fields[1:]\n",
    "fields"
   ]
  },
  {
   "cell_type": "code",
   "execution_count": 8,
   "metadata": {},
   "outputs": [
    {
     "data": {
      "text/plain": [
       "{'id': 0}"
      ]
     },
     "execution_count": 8,
     "metadata": {},
     "output_type": "execute_result"
    }
   ],
   "source": [
    "shp_fields = {field[0]:i for i, field in enumerate(fields)}\n",
    "shp_fields"
   ]
  },
  {
   "cell_type": "markdown",
   "metadata": {},
   "source": [
    "## example 2"
   ]
  },
  {
   "cell_type": "code",
   "execution_count": 9,
   "metadata": {},
   "outputs": [],
   "source": [
    "shp_path = \"../tests/data/pix4d/lotus_tanashi_full/plots.shp\""
   ]
  },
  {
   "cell_type": "code",
   "execution_count": 10,
   "metadata": {},
   "outputs": [],
   "source": [
    "shp = shapefile.Reader(shp_path, encoding='utf-8')"
   ]
  },
  {
   "cell_type": "code",
   "execution_count": 17,
   "metadata": {},
   "outputs": [
    {
     "data": {
      "text/plain": [
       "[('DeletionFlag', 'C', 1, 0), ['plot_id', 'C', 80, 0]]"
      ]
     },
     "execution_count": 17,
     "metadata": {},
     "output_type": "execute_result"
    }
   ],
   "source": [
    "shp.fields"
   ]
  },
  {
   "cell_type": "code",
   "execution_count": 12,
   "metadata": {},
   "outputs": [
    {
     "data": {
      "text/plain": [
       "[['plot_id', 'C', 80, 0]]"
      ]
     },
     "execution_count": 12,
     "metadata": {},
     "output_type": "execute_result"
    }
   ],
   "source": [
    "fields = shp.fields[1:]\n",
    "fields"
   ]
  },
  {
   "cell_type": "code",
   "execution_count": 13,
   "metadata": {},
   "outputs": [
    {
     "data": {
      "text/plain": [
       "{'plot_id': 0}"
      ]
     },
     "execution_count": 13,
     "metadata": {},
     "output_type": "execute_result"
    }
   ],
   "source": [
    "shp_fields = {field[0]:i for i, field in enumerate(fields)}\n",
    "shp_fields"
   ]
  },
  {
   "cell_type": "code",
   "execution_count": 14,
   "metadata": {},
   "outputs": [],
   "source": [
    "def _convert_shp_title(shp_fields, name_field):\n",
    "    if name_field is None:\n",
    "        field_id = None\n",
    "    elif isinstance(name_field, int):\n",
    "        field_id = name_field\n",
    "    elif isinstance(name_field, str):\n",
    "        field_id = shp_fields[name_field]\n",
    "    else:\n",
    "        raise KeyError(f'Can not find key {name_field} in {shp_fields}')\n",
    "    \n",
    "    return field_id"
   ]
  },
  {
   "cell_type": "code",
   "execution_count": 16,
   "metadata": {},
   "outputs": [
    {
     "data": {
      "text/plain": [
       "0"
      ]
     },
     "execution_count": 16,
     "metadata": {},
     "output_type": "execute_result"
    }
   ],
   "source": [
    "field_id = _convert_shp_title(shp_fields, 'plot_id')\n",
    "field_id"
   ]
  },
  {
   "cell_type": "markdown",
   "metadata": {},
   "source": [
    "## previous finished"
   ]
  },
  {
   "cell_type": "code",
   "execution_count": 7,
   "metadata": {},
   "outputs": [],
   "source": [
    "shp_path = \"../tests/data/shp_test/complex_shp_review.shp\""
   ]
  },
  {
   "cell_type": "code",
   "execution_count": 8,
   "metadata": {},
   "outputs": [],
   "source": [
    "shp = shapefile.Reader(shp_path, encoding=\"GBK\")"
   ]
  },
  {
   "cell_type": "code",
   "execution_count": 9,
   "metadata": {},
   "outputs": [
    {
     "data": {
      "text/plain": [
       "{'ID': 1,\n",
       " 'MASSIFID': 2,\n",
       " 'CROPTYPE': 3,\n",
       " 'CROPDATE': 4,\n",
       " 'CROPAREA': 5,\n",
       " 'ATTID': 6}"
      ]
     },
     "execution_count": 9,
     "metadata": {},
     "output_type": "execute_result"
    }
   ],
   "source": [
    "keys = {}\n",
    "for i, l in enumerate(shp.fields):\n",
    "    if isinstance(l, list):\n",
    "        keys[l[0]] = i\n",
    "keys\n"
   ]
  },
  {
   "cell_type": "code",
   "execution_count": 10,
   "metadata": {},
   "outputs": [
    {
     "data": {
      "text/plain": [
       "323"
      ]
     },
     "execution_count": 10,
     "metadata": {},
     "output_type": "execute_result"
    }
   ],
   "source": [
    "len(shp.records())"
   ]
  },
  {
   "cell_type": "code",
   "execution_count": 11,
   "metadata": {},
   "outputs": [
    {
     "name": "stdout",
     "output_type": "stream",
     "text": [
      "['230104112201809010000000000', '2301041120000000000', '小麦', datetime.date(2018, 9, 1), 61525.26302, '']\n"
     ]
    }
   ],
   "source": [
    "for i, k in enumerate(shp.records()):\n",
    "    line = list(k)\n",
    "    print(line)\n",
    "    break"
   ]
  },
  {
   "cell_type": "code",
   "execution_count": 13,
   "metadata": {},
   "outputs": [],
   "source": [
    "from tabulate import tabulate"
   ]
  },
  {
   "cell_type": "code",
   "execution_count": 18,
   "metadata": {},
   "outputs": [
    {
     "data": {
      "text/plain": [
       "['[1] ID',\n",
       " '[2] MASSIFID',\n",
       " '[3] CROPTYPE',\n",
       " '[4] CROPDATE',\n",
       " '[5] CROPAREA',\n",
       " '[6] ATTID']"
      ]
     },
     "execution_count": 18,
     "metadata": {},
     "output_type": "execute_result"
    }
   ],
   "source": [
    "headers = [f\"[{v}] {k}\" for k, v in keys.items()]\n",
    "headers"
   ]
  },
  {
   "cell_type": "code",
   "execution_count": 19,
   "metadata": {},
   "outputs": [
    {
     "data": {
      "text/plain": [
       "Record #0: ['230104112201809010000000000', '2301041120000000000', '小麦', datetime.date(2018, 9, 1), 61525.26302, '']"
      ]
     },
     "execution_count": 19,
     "metadata": {},
     "output_type": "execute_result"
    }
   ],
   "source": [
    "shp.records()[0]"
   ]
  },
  {
   "cell_type": "code",
   "execution_count": 29,
   "metadata": {},
   "outputs": [
    {
     "data": {
      "text/plain": [
       "[-5, -4, -3, -2, -1]"
      ]
     },
     "execution_count": 29,
     "metadata": {},
     "output_type": "execute_result"
    }
   ],
   "source": [
    "[i for i in range(-5, 0, 1)]"
   ]
  },
  {
   "cell_type": "code",
   "execution_count": 30,
   "metadata": {},
   "outputs": [
    {
     "data": {
      "text/plain": [
       "['...', '...', '...', '...', '...']"
      ]
     },
     "execution_count": 30,
     "metadata": {},
     "output_type": "execute_result"
    }
   ],
   "source": [
    "['...'] * 5"
   ]
  },
  {
   "cell_type": "code",
   "execution_count": 32,
   "metadata": {},
   "outputs": [],
   "source": [
    "show_num = 5"
   ]
  },
  {
   "cell_type": "code",
   "execution_count": 33,
   "metadata": {},
   "outputs": [
    {
     "data": {
      "text/plain": [
       "[['230104112201809010000000000',\n",
       "  '2301041120000000000',\n",
       "  '小麦',\n",
       "  datetime.date(2018, 9, 1),\n",
       "  61525.26302,\n",
       "  ''],\n",
       " ['230104112201809010000000012',\n",
       "  '2301041120000000012',\n",
       "  '蔬菜',\n",
       "  datetime.date(2018, 9, 1),\n",
       "  2802.33512,\n",
       "  ''],\n",
       " ['230104112201809010000000014',\n",
       "  '2301041120000000014',\n",
       "  '玉米',\n",
       "  datetime.date(2018, 9, 1),\n",
       "  6960.7745,\n",
       "  ''],\n",
       " ['230104112201809010000000061',\n",
       "  '2301041120000000061',\n",
       "  '牧草',\n",
       "  datetime.date(2018, 9, 1),\n",
       "  25349.08639,\n",
       "  ''],\n",
       " ['230104112201809010000000062',\n",
       "  '2301041120000000062',\n",
       "  '玉米',\n",
       "  datetime.date(2018, 9, 1),\n",
       "  71463.27666,\n",
       "  ''],\n",
       " ['...', '...', '...', '...', '...', '...'],\n",
       " ['230104112201809010000000582',\n",
       "  '2301041120000000582',\n",
       "  '胡萝卜',\n",
       "  datetime.date(2018, 9, 1),\n",
       "  288.23876,\n",
       "  ''],\n",
       " ['230104112201809010000000577',\n",
       "  '2301041120000000577',\n",
       "  '杂豆',\n",
       "  datetime.date(2018, 9, 1),\n",
       "  2001.80384,\n",
       "  ''],\n",
       " ['230104112201809010000000583',\n",
       "  '2301041120000000583',\n",
       "  '大豆',\n",
       "  datetime.date(2018, 9, 1),\n",
       "  380.41704,\n",
       "  ''],\n",
       " ['230104112201809010000000584',\n",
       "  '2301041120000000584',\n",
       "  '其它',\n",
       "  datetime.date(2018, 9, 1),\n",
       "  9133.25998,\n",
       "  ''],\n",
       " ['230104112201809010000000585',\n",
       "  '2301041120000000585',\n",
       "  '其它',\n",
       "  datetime.date(2018, 9, 1),\n",
       "  1704.27193,\n",
       "  '']]"
      ]
     },
     "execution_count": 33,
     "metadata": {},
     "output_type": "execute_result"
    }
   ],
   "source": [
    "content_list = []\n",
    "\n",
    "if len(shp.records()) > show_num * 2:\n",
    "    # first {show_num} rows\n",
    "    for i in range(0, show_num):\n",
    "        content_list.append(list(shp.records()[i]))\n",
    "\n",
    "    # omitted row\n",
    "    omit_list = ['...'] * len(shp.records()[i])\n",
    "    content_list.append(omit_list)\n",
    "\n",
    "    # last {show_num} rows\n",
    "    for i in range(-show_num, 0):\n",
    "        content_list.append(list(shp.records()[i]))\n",
    "else:\n",
    "    # print all rows without omit\n",
    "    for i in shp.records():\n",
    "        content_list.append(list(i))\n",
    "\n",
    "content_list"
   ]
  },
  {
   "cell_type": "code",
   "execution_count": 41,
   "metadata": {},
   "outputs": [
    {
     "data": {
      "text/plain": [
       "'| [1] ID                      | [2] MASSIFID        | [3] CROPTYPE   | [4] CROPDATE   | [5] CROPAREA   | [6] ATTID   |\\n|-----------------------------|---------------------|----------------|----------------|----------------|-------------|\\n| 230104112201809010000000000 | 2301041120000000000 | 小麦           | 2018-09-01     | 61525.26302    |             |\\n| 230104112201809010000000012 | 2301041120000000012 | 蔬菜           | 2018-09-01     | 2802.33512     |             |\\n| 230104112201809010000000014 | 2301041120000000014 | 玉米           | 2018-09-01     | 6960.7745      |             |\\n| 230104112201809010000000061 | 2301041120000000061 | 牧草           | 2018-09-01     | 25349.08639    |             |\\n| 230104112201809010000000062 | 2301041120000000062 | 玉米           | 2018-09-01     | 71463.27666    |             |\\n| ...                         | ...                 | ...            | ...            | ...            | ...         |\\n| 230104112201809010000000582 | 2301041120000000582 | 胡萝卜         | 2018-09-01     | 288.23876      |             |\\n| 230104112201809010000000577 | 2301041120000000577 | 杂豆           | 2018-09-01     | 2001.80384     |             |\\n| 230104112201809010000000583 | 2301041120000000583 | 大豆           | 2018-09-01     | 380.41704      |             |\\n| 230104112201809010000000584 | 2301041120000000584 | 其它           | 2018-09-01     | 9133.25998     |             |\\n| 230104112201809010000000585 | 2301041120000000585 | 其它           | 2018-09-01     | 1704.27193     |             |'"
      ]
     },
     "execution_count": 41,
     "metadata": {},
     "output_type": "execute_result"
    }
   ],
   "source": [
    "out = tabulate(content_list, headers, tablefmt=\"github\")\n",
    "out"
   ]
  },
  {
   "cell_type": "code",
   "execution_count": 39,
   "metadata": {},
   "outputs": [
    {
     "data": {
      "text/plain": [
       "str"
      ]
     },
     "execution_count": 39,
     "metadata": {},
     "output_type": "execute_result"
    }
   ],
   "source": [
    "type(out)"
   ]
  },
  {
   "cell_type": "code",
   "execution_count": 42,
   "metadata": {},
   "outputs": [
    {
     "name": "stdout",
     "output_type": "stream",
     "text": [
      "| [1] ID                      | [2] MASSIFID        | [3] CROPTYPE   | [4] CROPDATE   | [5] CROPAREA   | [6] ATTID   |\n",
      "|-----------------------------|---------------------|----------------|----------------|----------------|-------------|\n",
      "| 230104112201809010000000000 | 2301041120000000000 | 小麦           | 2018-09-01     | 61525.26302    |             |\n",
      "| 230104112201809010000000012 | 2301041120000000012 | 蔬菜           | 2018-09-01     | 2802.33512     |             |\n",
      "| 230104112201809010000000014 | 2301041120000000014 | 玉米           | 2018-09-01     | 6960.7745      |             |\n",
      "| 230104112201809010000000061 | 2301041120000000061 | 牧草           | 2018-09-01     | 25349.08639    |             |\n",
      "| 230104112201809010000000062 | 2301041120000000062 | 玉米           | 2018-09-01     | 71463.27666    |             |\n",
      "| ...                         | ...                 | ...            | ...            | ...            | ...         |\n",
      "| 230104112201809010000000582 | 2301041120000000582 | 胡萝卜         | 2018-09-01     | 288.23876      |             |\n",
      "| 230104112201809010000000577 | 2301041120000000577 | 杂豆           | 2018-09-01     | 2001.80384     |             |\n",
      "| 230104112201809010000000583 | 2301041120000000583 | 大豆           | 2018-09-01     | 380.41704      |             |\n",
      "| 230104112201809010000000584 | 2301041120000000584 | 其它           | 2018-09-01     | 9133.25998     |             |\n",
      "| 230104112201809010000000585 | 2301041120000000585 | 其它           | 2018-09-01     | 1704.27193     |             |\n"
     ]
    }
   ],
   "source": [
    "print(out)"
   ]
  },
  {
   "cell_type": "code",
   "execution_count": null,
   "metadata": {},
   "outputs": [],
   "source": []
  }
 ],
 "metadata": {
  "kernelspec": {
   "display_name": "Python 3.8.13 ('easyidp')",
   "language": "python",
   "name": "python3"
  },
  "language_info": {
   "codemirror_mode": {
    "name": "ipython",
    "version": 3
   },
   "file_extension": ".py",
   "mimetype": "text/x-python",
   "name": "python",
   "nbconvert_exporter": "python",
   "pygments_lexer": "ipython3",
   "version": "3.8.13"
  },
  "orig_nbformat": 4,
  "vscode": {
   "interpreter": {
    "hash": "37b84045dbd3b1b63dc225ef9ab210c438e45d226124df1289d7d0b5b9fdea16"
   }
  }
 },
 "nbformat": 4,
 "nbformat_minor": 2
}
