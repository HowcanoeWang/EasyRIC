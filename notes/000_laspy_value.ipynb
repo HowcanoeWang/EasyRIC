{
 "cells": [
  {
   "cell_type": "code",
   "execution_count": 1,
   "metadata": {},
   "outputs": [],
   "source": [
    "import numpy as np\n",
    "import laspy"
   ]
  },
  {
   "cell_type": "code",
   "execution_count": 2,
   "metadata": {},
   "outputs": [],
   "source": [
    "header = laspy.LasHeader(point_format=2, version=\"1.2\")\n",
    "header.offsets = [ 367900., 3955800., 0.]    \n",
    "header.scales = [0.000001, 0.000001, 0.000001] "
   ]
  },
  {
   "cell_type": "code",
   "execution_count": 3,
   "metadata": {},
   "outputs": [],
   "source": [
    "las = laspy.LasData(header) "
   ]
  },
  {
   "cell_type": "code",
   "execution_count": 5,
   "metadata": {},
   "outputs": [
    {
     "data": {
      "text/plain": [
       "array([93.020673, 93.146   , 92.6317  ])"
      ]
     },
     "execution_count": 5,
     "metadata": {},
     "output_type": "execute_result"
    }
   ],
   "source": [
    "x = np.array( [ 93.020673,  93.146,   92.6317]) \n",
    "x"
   ]
  },
  {
   "cell_type": "code",
   "execution_count": 6,
   "metadata": {},
   "outputs": [
    {
     "ename": "OverflowError",
     "evalue": "Values given do not fit after applying offset and scale",
     "output_type": "error",
     "traceback": [
      "\u001b[1;31m---------------------------------------------------------------------------\u001b[0m",
      "\u001b[1;31mOverflowError\u001b[0m                             Traceback (most recent call last)",
      "\u001b[1;32md:\\OneDrive\\Program\\GitHub\\EasyIDP\\.debug\\220607_laspy_value\\untitle.ipynb Cell 5'\u001b[0m in \u001b[0;36m<cell line: 1>\u001b[1;34m()\u001b[0m\n\u001b[1;32m----> <a href='vscode-notebook-cell:/d%3A/OneDrive/Program/GitHub/EasyIDP/.debug/220607_laspy_value/untitle.ipynb#ch0000004?line=0'>1</a>\u001b[0m las\u001b[39m.\u001b[39mpoints[\u001b[39m'\u001b[39m\u001b[39mx\u001b[39m\u001b[39m'\u001b[39m] \u001b[39m=\u001b[39m x\n",
      "File \u001b[1;32mc:\\Users\\hwang\\.conda\\envs\\easyidp\\lib\\site-packages\\laspy\\point\\record.py:207\u001b[0m, in \u001b[0;36mPackedPointRecord.__setitem__\u001b[1;34m(self, key, value)\u001b[0m\n\u001b[0;32m    <a href='file:///c%3A/Users/hwang/.conda/envs/easyidp/lib/site-packages/laspy/point/record.py?line=204'>205</a>\u001b[0m \u001b[39mself\u001b[39m\u001b[39m.\u001b[39m_append_zeros_if_too_small(value)\n\u001b[0;32m    <a href='file:///c%3A/Users/hwang/.conda/envs/easyidp/lib/site-packages/laspy/point/record.py?line=205'>206</a>\u001b[0m \u001b[39mif\u001b[39;00m \u001b[39misinstance\u001b[39m(key, \u001b[39mstr\u001b[39m):\n\u001b[1;32m--> <a href='file:///c%3A/Users/hwang/.conda/envs/easyidp/lib/site-packages/laspy/point/record.py?line=206'>207</a>\u001b[0m     \u001b[39mself\u001b[39m[key][:] \u001b[39m=\u001b[39m value\n\u001b[0;32m    <a href='file:///c%3A/Users/hwang/.conda/envs/easyidp/lib/site-packages/laspy/point/record.py?line=207'>208</a>\u001b[0m \u001b[39melse\u001b[39;00m:\n\u001b[0;32m    <a href='file:///c%3A/Users/hwang/.conda/envs/easyidp/lib/site-packages/laspy/point/record.py?line=208'>209</a>\u001b[0m     \u001b[39mself\u001b[39m\u001b[39m.\u001b[39marray[key] \u001b[39m=\u001b[39m value\n",
      "File \u001b[1;32mc:\\Users\\hwang\\.conda\\envs\\easyidp\\lib\\site-packages\\laspy\\point\\dims.py:788\u001b[0m, in \u001b[0;36mScaledArrayView.__setitem__\u001b[1;34m(self, key, value)\u001b[0m\n\u001b[0;32m    <a href='file:///c%3A/Users/hwang/.conda/envs/easyidp/lib/site-packages/laspy/point/dims.py?line=784'>785</a>\u001b[0m min_allowed \u001b[39m=\u001b[39m \u001b[39mself\u001b[39m\u001b[39m.\u001b[39m_apply_scale(info\u001b[39m.\u001b[39mmin)\n\u001b[0;32m    <a href='file:///c%3A/Users/hwang/.conda/envs/easyidp/lib/site-packages/laspy/point/dims.py?line=786'>787</a>\u001b[0m \u001b[39mif\u001b[39;00m np\u001b[39m.\u001b[39many(new_max \u001b[39m>\u001b[39m max_allowed) \u001b[39mor\u001b[39;00m np\u001b[39m.\u001b[39many(new_min \u001b[39m<\u001b[39m min_allowed):\n\u001b[1;32m--> <a href='file:///c%3A/Users/hwang/.conda/envs/easyidp/lib/site-packages/laspy/point/dims.py?line=787'>788</a>\u001b[0m     \u001b[39mraise\u001b[39;00m \u001b[39mOverflowError\u001b[39;00m(\n\u001b[0;32m    <a href='file:///c%3A/Users/hwang/.conda/envs/easyidp/lib/site-packages/laspy/point/dims.py?line=788'>789</a>\u001b[0m         \u001b[39m\"\u001b[39m\u001b[39mValues given do not fit after applying offset and scale\u001b[39m\u001b[39m\"\u001b[39m\n\u001b[0;32m    <a href='file:///c%3A/Users/hwang/.conda/envs/easyidp/lib/site-packages/laspy/point/dims.py?line=789'>790</a>\u001b[0m     )\n\u001b[0;32m    <a href='file:///c%3A/Users/hwang/.conda/envs/easyidp/lib/site-packages/laspy/point/dims.py?line=790'>791</a>\u001b[0m \u001b[39mif\u001b[39;00m \u001b[39misinstance\u001b[39m(value, ScaledArrayView):\n\u001b[0;32m    <a href='file:///c%3A/Users/hwang/.conda/envs/easyidp/lib/site-packages/laspy/point/dims.py?line=791'>792</a>\u001b[0m     value \u001b[39m=\u001b[39m np\u001b[39m.\u001b[39marray(value)\n",
      "\u001b[1;31mOverflowError\u001b[0m: Values given do not fit after applying offset and scale"
     ]
    }
   ],
   "source": [
    "las.points['x'] = x"
   ]
  },
  {
   "cell_type": "code",
   "execution_count": 8,
   "metadata": {},
   "outputs": [
    {
     "data": {
      "text/plain": [
       "array([367993.020673, 367993.146   , 367992.6317  ])"
      ]
     },
     "execution_count": 8,
     "metadata": {},
     "output_type": "execute_result"
    }
   ],
   "source": [
    "x2 = x + header.offsets[0]\n",
    "x2"
   ]
  },
  {
   "cell_type": "code",
   "execution_count": 9,
   "metadata": {},
   "outputs": [],
   "source": [
    "las.points['x'] = x2"
   ]
  },
  {
   "cell_type": "code",
   "execution_count": 10,
   "metadata": {},
   "outputs": [
    {
     "data": {
      "text/plain": [
       "array([(93020673, 0, 0, 0, 0, 0, 0, 0, 0, 0, 0, 0),\n",
       "       (93146000, 0, 0, 0, 0, 0, 0, 0, 0, 0, 0, 0),\n",
       "       (92631700, 0, 0, 0, 0, 0, 0, 0, 0, 0, 0, 0)],\n",
       "      dtype=[('X', '<i4'), ('Y', '<i4'), ('Z', '<i4'), ('intensity', '<u2'), ('bit_fields', 'u1'), ('raw_classification', 'u1'), ('scan_angle_rank', 'i1'), ('user_data', 'u1'), ('point_source_id', '<u2'), ('red', '<u2'), ('green', '<u2'), ('blue', '<u2')])"
      ]
     },
     "execution_count": 10,
     "metadata": {},
     "output_type": "execute_result"
    }
   ],
   "source": [
    "las.points.array"
   ]
  },
  {
   "cell_type": "code",
   "execution_count": null,
   "metadata": {},
   "outputs": [],
   "source": []
  }
 ],
 "metadata": {
  "interpreter": {
   "hash": "37b84045dbd3b1b63dc225ef9ab210c438e45d226124df1289d7d0b5b9fdea16"
  },
  "kernelspec": {
   "display_name": "Python 3.8.13 ('easyidp')",
   "language": "python",
   "name": "python3"
  },
  "language_info": {
   "codemirror_mode": {
    "name": "ipython",
    "version": 3
   },
   "file_extension": ".py",
   "mimetype": "text/x-python",
   "name": "python",
   "nbconvert_exporter": "python",
   "pygments_lexer": "ipython3",
   "version": "3.8.13"
  },
  "orig_nbformat": 4
 },
 "nbformat": 4,
 "nbformat_minor": 2
}
