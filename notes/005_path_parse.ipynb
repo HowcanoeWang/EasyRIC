{
 "cells": [
  {
   "cell_type": "code",
   "execution_count": 1,
   "metadata": {},
   "outputs": [],
   "source": [
    "import os"
   ]
  },
  {
   "cell_type": "code",
   "execution_count": 2,
   "metadata": {},
   "outputs": [
    {
     "data": {
      "text/plain": [
       "'Z:\\\\ishii_Pro\\\\sumiPro\\\\2022_soy_weeds_metashape_result\\\\220613_G_M600pro\\\\220613_G_M600pro.files\\\\0\\\\0\\\\../../../../source/220613_G_M600pro/DSC06093.JPG'"
      ]
     },
     "execution_count": 2,
     "metadata": {},
     "output_type": "execute_result"
    }
   ],
   "source": [
    "# derive\n",
    "frame_path = r\"Z:\\ishii_Pro\\sumiPro\\2022_soy_weeds_metashape_result\\220613_G_M600pro\\220613_G_M600pro.files\\0\\0\\frame.zip\"\n",
    "rel_path = r\"../../../../source/220613_G_M600pro/DSC06093.JPG\"\n",
    "\n",
    "merge = os.path.join(os.path.dirname(frame_path), rel_path)\n",
    "merge"
   ]
  },
  {
   "cell_type": "code",
   "execution_count": 3,
   "metadata": {},
   "outputs": [
    {
     "data": {
      "text/plain": [
       "'Z:\\\\ishii_Pro\\\\sumiPro\\\\2022_soy_weeds_metashape_result\\\\source\\\\220613_G_M600pro\\\\DSC06093.JPG'"
      ]
     },
     "execution_count": 3,
     "metadata": {},
     "output_type": "execute_result"
    }
   ],
   "source": [
    "os.path.abspath(merge)"
   ]
  }
 ],
 "metadata": {
  "kernelspec": {
   "display_name": "Python 3.8.13 ('easyidp')",
   "language": "python",
   "name": "python3"
  },
  "language_info": {
   "codemirror_mode": {
    "name": "ipython",
    "version": 3
   },
   "file_extension": ".py",
   "mimetype": "text/x-python",
   "name": "python",
   "nbconvert_exporter": "python",
   "pygments_lexer": "ipython3",
   "version": "3.8.13"
  },
  "orig_nbformat": 4,
  "vscode": {
   "interpreter": {
    "hash": "37b84045dbd3b1b63dc225ef9ab210c438e45d226124df1289d7d0b5b9fdea16"
   }
  }
 },
 "nbformat": 4,
 "nbformat_minor": 2
}
